{
 "cells": [
  {
   "cell_type": "markdown",
   "metadata": {},
   "source": [
    "### **Outline**\n",
    "Example of how to use pipeline tools for running tests\n",
    "\n",
    "```\n",
    "model = Model('yolov5n') \n",
    "video = Video('path')\n",
    "cache = FrameQueue(maxlen=3)\n",
    "outputs = []\n",
    "while cache.has_frames():\n",
    "    video.add_to_cache(cache)  # adds certain frames to cache depending on FPS\n",
    "    \n",
    "    # GET FRAME TO PROCESS\n",
    "    frame = cache.get_frame()     # gets frame at index in cache, default is oldest\n",
    "\n",
    "    # SHOULD WE PROCESS FRAME? \n",
    "    # add funcs here for testing different ways of determining whether or not to process a frame\n",
    "    # ex: if not should_process.frame_diff(cache):\n",
    "        pass\n",
    "\n",
    "    # PREPROCESS THE FRAME\n",
    "    # no implementation as of yet\n",
    "    # ex: frame = preprocess.crop(frame)\n",
    "    # ex: frame = preprocess.resize(frame)\n",
    "\n",
    "    model.run(frame)  # runs model and fills in detections for any skipped frames\n",
    "```"
   ]
  },
  {
   "cell_type": "code",
   "execution_count": 7,
   "metadata": {},
   "outputs": [],
   "source": [
    "import os\n",
    "import sys\n",
    "sys.path.append(os.path.dirname('../video_analytics/'))\n",
    "from new_pipeline import *\n",
    "from pipeline_utils import *\n",
    "import cv2"
   ]
  }
 ],
 "metadata": {
  "kernelspec": {
   "display_name": ".venv",
   "language": "python",
   "name": "python3"
  },
  "language_info": {
   "codemirror_mode": {
    "name": "ipython",
    "version": 3
   },
   "file_extension": ".py",
   "mimetype": "text/x-python",
   "name": "python",
   "nbconvert_exporter": "python",
   "pygments_lexer": "ipython3",
   "version": "3.9.13"
  },
  "orig_nbformat": 4
 },
 "nbformat": 4,
 "nbformat_minor": 2
}
