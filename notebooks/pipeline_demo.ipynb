{
 "cells": [
  {
   "cell_type": "markdown",
   "metadata": {},
   "source": [
    "### **Outline**\n",
    "Example of how to use pipeline tools for running tests\n",
    "\n",
    "```\n",
    "model = Model('yolov5n') \n",
    "video = Video('path')\n",
    "cache = FrameQueue(maxlen=3)\n",
    "outputs = []\n",
    "while cache.has_frames():\n",
    "    video.add_to_cache(cache)  # adds certain frames to cache depending on FPS\n",
    "    \n",
    "    # GET FRAME TO PROCESS\n",
    "    frame = cache.get_frame()     # gets frame at index in cache, default is oldest\n",
    "\n",
    "    # SHOULD WE PROCESS FRAME? \n",
    "    # add funcs here for testing different ways of determining whether or not to process a frame\n",
    "    # ex: if not should_process.frame_diff(cache):\n",
    "        pass\n",
    "\n",
    "    # PREPROCESS THE FRAME\n",
    "    # no implementation as of yet\n",
    "    # ex: frame = preprocess.crop(frame)\n",
    "    # ex: frame = preprocess.resize(frame)\n",
    "\n",
    "    model.run(frame)  # runs model and fills in detections for any skipped frames\n",
    "```"
   ]
  },
  {
   "cell_type": "code",
   "execution_count": 1,
   "metadata": {},
   "outputs": [
    {
     "ename": "ModuleNotFoundError",
     "evalue": "No module named 'new_pipeline'",
     "output_type": "error",
     "traceback": [
      "\u001b[1;31m---------------------------------------------------------------------------\u001b[0m",
      "\u001b[1;31mModuleNotFoundError\u001b[0m                       Traceback (most recent call last)",
      "\u001b[1;32m<ipython-input-1-0517858bdb71>\u001b[0m in \u001b[0;36m<module>\u001b[1;34m\u001b[0m\n\u001b[1;32m----> 1\u001b[1;33m \u001b[1;32mfrom\u001b[0m \u001b[0mnew_pipeline\u001b[0m \u001b[1;32mimport\u001b[0m \u001b[1;33m*\u001b[0m\u001b[1;33m\u001b[0m\u001b[1;33m\u001b[0m\u001b[0m\n\u001b[0m\u001b[0;32m      2\u001b[0m \u001b[1;32mfrom\u001b[0m \u001b[0mpipeline_utils\u001b[0m \u001b[1;32mimport\u001b[0m \u001b[1;33m*\u001b[0m\u001b[1;33m\u001b[0m\u001b[1;33m\u001b[0m\u001b[0m\n\u001b[0;32m      3\u001b[0m \u001b[1;32mimport\u001b[0m \u001b[0mcv2\u001b[0m\u001b[1;33m\u001b[0m\u001b[1;33m\u001b[0m\u001b[0m\n",
      "\u001b[1;31mModuleNotFoundError\u001b[0m: No module named 'new_pipeline'"
     ]
    }
   ],
   "source": [
    "import os\n",
    "import sys\n",
    "sys.path.append(os.path.dirname('../video_analytics/'))\n",
    "from new_pipeline import *\n",
    "from pipeline_utils import *\n",
    "import cv2"
   ]
  },
  {
   "cell_type": "code",
   "execution_count": 2,
   "metadata": {},
   "outputs": [
    {
     "name": "stdout",
     "output_type": "stream",
     "text": [
      "Using default video resolution: 1280, 720\n"
     ]
    },
    {
     "name": "stderr",
     "output_type": "stream",
     "text": [
      "Using cache found in C:\\Users\\adamf/.cache\\torch\\hub\\ultralytics_yolov5_master\n",
      "YOLOv5  2023-6-26 Python-3.9.13 torch-2.0.1+cpu CPU\n",
      "\n",
      "Fusing layers... \n",
      "YOLOv5n summary: 213 layers, 1867405 parameters, 0 gradients\n",
      "Adding AutoShape... \n"
     ]
    },
    {
     "name": "stdout",
     "output_type": "stream",
     "text": [
      "5\n",
      "---------------------\n",
      "1\n",
      "51\n",
      "101\n",
      "151\n",
      "201\n",
      "######################\n",
      "1\n",
      "51\n",
      "101\n",
      "151\n",
      "201\n",
      "252\n",
      "303\n",
      "354\n",
      "405\n",
      "456\n",
      "507\n",
      "558\n",
      "609\n",
      "660\n",
      "No frame returned from < cv2.VideoCapture 00000109974959F0>\n",
      "No frame returned from < cv2.VideoCapture 00000109974959F0>\n",
      "{202: Empty DataFrame\n",
      "Columns: [xcenter, ycenter, width, height, confidence, class, name, frame]\n",
      "Index: [], 253: Empty DataFrame\n",
      "Columns: [xcenter, ycenter, width, height, confidence, class, name, frame]\n",
      "Index: [], 304:       xcenter     ycenter       width      height  confidence  class  name  \\\n",
      "0  636.499756  480.703156  310.191528  308.385315    0.806054     21  bear   \n",
      "\n",
      "   frame  \n",
      "0    304  , 355:       xcenter     ycenter       width      height  confidence  class  name  \\\n",
      "0  642.976379  481.475403  315.568481  307.087311    0.812429     21  bear   \n",
      "\n",
      "   frame  \n",
      "0    355  , 406:       xcenter     ycenter       width      height  confidence  class  name  \\\n",
      "0  659.188599  481.903137  242.381592  302.113037    0.842074     21  bear   \n",
      "\n",
      "   frame  \n",
      "0    406  , 457:      xcenter     ycenter       width      height  confidence  class  name  \\\n",
      "0  822.96228  470.588806  183.020996  233.006958    0.803663     21  bear   \n",
      "\n",
      "   frame  \n",
      "0    457  , 508:       xcenter     ycenter       width      height  confidence  class  name  \\\n",
      "0  952.183899  484.105591  151.642944  171.236359    0.736456     21  bear   \n",
      "\n",
      "   frame  \n",
      "0    508  , 559:        xcenter     ycenter      width      height  confidence  class  name  \\\n",
      "0  1028.662598  494.858704  95.291992  147.182648    0.792933     21  bear   \n",
      "\n",
      "   frame  \n",
      "0    559  , 610:        xcenter     ycenter      width      height  confidence  class  name  \\\n",
      "0  1038.813477  498.302368  87.775391  137.922638    0.612118     21  bear   \n",
      "\n",
      "   frame  \n",
      "0    610  , 661:        xcenter    ycenter      width      height  confidence  class  name  \\\n",
      "0  1038.323853  500.39978  91.013245  132.796997    0.782299     21  bear   \n",
      "\n",
      "   frame  \n",
      "0    661  , 712:        xcenter     ycenter      width      height  confidence  class  name  \\\n",
      "0  1040.072632  499.519592  89.331787  132.571289    0.756375     21  bear   \n",
      "\n",
      "   frame  \n",
      "0    712  , 763:        xcenter     ycenter     width      height  confidence  class  name  \\\n",
      "0  1039.572266  499.879395  91.39447  132.371826    0.785309     21  bear   \n",
      "\n",
      "   frame  \n",
      "0    763  , 814:       xcenter     ycenter      width      height  confidence  class  name  \\\n",
      "0  1040.70874  499.601685  88.959717  128.631073    0.801531     21  bear   \n",
      "\n",
      "   frame  \n",
      "0    814  , 865:        xcenter    ycenter      width      height  confidence  class  name  \\\n",
      "0  1037.232056  500.94989  93.996826  125.542328    0.835087     21  bear   \n",
      "\n",
      "   frame  \n",
      "0    865  }\n"
     ]
    }
   ],
   "source": [
    "vid = Video(path='../samples/videos/large2.mp4')\n",
    "cache = FrameCache(max_frames=5)\n",
    "model = Model('yolov5n')\n",
    "\n",
    "# initialize cache\n",
    "cache = vid.fill_cache(frames_skip=49, frame_cache=cache)\n",
    "print(len(cache.frames))\n",
    "print('---------------------')\n",
    "for c in cache.frames:\n",
    "    print(c[0])\n",
    "print('######################')\n",
    "\n",
    "while vid.ret:\n",
    "    frame_num, frame = cache.get_frame()\n",
    "    print(frame_num)\n",
    "    det = model.run(frame, vid)\n",
    "    vid.add_to_cache(frames_skip=50, frame_cache=cache)\n",
    "    \n",
    "print(model.outputs)"
   ]
  },
  {
   "cell_type": "code",
   "execution_count": null,
   "metadata": {},
   "outputs": [],
   "source": []
  }
 ],
 "metadata": {
  "kernelspec": {
   "display_name": ".venv",
   "language": "python",
   "name": "python3"
  },
  "language_info": {
   "codemirror_mode": {
    "name": "ipython",
    "version": 3
   },
   "file_extension": ".py",
   "mimetype": "text/x-python",
   "name": "python",
   "nbconvert_exporter": "python",
   "pygments_lexer": "ipython3",
   "version": "3.9.13"
  },
  "orig_nbformat": 4
 },
 "nbformat": 4,
 "nbformat_minor": 2
}
