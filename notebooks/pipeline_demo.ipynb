{
 "cells": [
  {
   "cell_type": "markdown",
   "metadata": {},
   "source": [
    "### **Outline**\n",
    "Example of how to use pipeline tools for running tests\n",
    "\n",
    "```\n",
    "model = Model('yolov5n') \n",
    "video = Video('path')\n",
    "cache = FrameQueue(maxlen=3)\n",
    "outputs = []\n",
    "while cache.has_frames():\n",
    "    video.add_to_cache(cache)  # adds certain frames to cache depending on FPS\n",
    "    \n",
    "    # GET FRAME TO PROCESS\n",
    "    frame = cache.get_frame()     # gets frame at index in cache, default is oldest\n",
    "\n",
    "    # SHOULD WE PROCESS FRAME? \n",
    "    # add funcs here for testing different ways of determining whether or not to process a frame\n",
    "    # ex: if not should_process.frame_diff(cache):\n",
    "        pass\n",
    "\n",
    "    # PREPROCESS THE FRAME\n",
    "    # no implementation as of yet\n",
    "    # ex: frame = preprocess.crop(frame)\n",
    "    # ex: frame = preprocess.resize(frame)\n",
    "\n",
    "    model.run(frame)  # runs model and fills in detections for any skipped frames\n",
    "```"
   ]
  },
  {
   "cell_type": "code",
   "execution_count": 1,
   "metadata": {},
   "outputs": [
    {
     "ename": "ModuleNotFoundError",
     "evalue": "No module named 'new_pipeline'",
     "output_type": "error",
     "traceback": [
      "\u001b[1;31m---------------------------------------------------------------------------\u001b[0m",
      "\u001b[1;31mModuleNotFoundError\u001b[0m                       Traceback (most recent call last)",
      "\u001b[1;32m<ipython-input-1-0517858bdb71>\u001b[0m in \u001b[0;36m<module>\u001b[1;34m\u001b[0m\n\u001b[1;32m----> 1\u001b[1;33m \u001b[1;32mfrom\u001b[0m \u001b[0mnew_pipeline\u001b[0m \u001b[1;32mimport\u001b[0m \u001b[1;33m*\u001b[0m\u001b[1;33m\u001b[0m\u001b[1;33m\u001b[0m\u001b[0m\n\u001b[0m\u001b[0;32m      2\u001b[0m \u001b[1;32mfrom\u001b[0m \u001b[0mpipeline_utils\u001b[0m \u001b[1;32mimport\u001b[0m \u001b[1;33m*\u001b[0m\u001b[1;33m\u001b[0m\u001b[1;33m\u001b[0m\u001b[0m\n\u001b[0;32m      3\u001b[0m \u001b[1;32mimport\u001b[0m \u001b[0mcv2\u001b[0m\u001b[1;33m\u001b[0m\u001b[1;33m\u001b[0m\u001b[0m\n",
      "\u001b[1;31mModuleNotFoundError\u001b[0m: No module named 'new_pipeline'"
     ]
    }
   ],
   "source": [
    "import os\n",
    "import sys\n",
    "sys.path.append(os.path.dirname('../video_analytics/'))\n",
    "from new_pipeline import *\n",
    "from pipeline_utils import *\n",
    "import cv2"
   ]
  },
  {
   "cell_type": "code",
   "execution_count": 3,
   "metadata": {},
   "outputs": [
    {
     "name": "stdout",
     "output_type": "stream",
     "text": [
      "Using default video resolution: 1280, 720\n"
     ]
    },
    {
     "name": "stderr",
     "output_type": "stream",
     "text": [
      "Using cache found in C:\\Users\\adamf/.cache\\torch\\hub\\ultralytics_yolov5_master\n",
      "YOLOv5  2023-6-26 Python-3.9.13 torch-2.0.1+cpu CPU\n",
      "\n",
      "Fusing layers... \n",
      "YOLOv5n summary: 213 layers, 1867405 parameters, 0 gradients\n",
      "Adding AutoShape... \n"
     ]
    },
    {
     "name": "stdout",
     "output_type": "stream",
     "text": [
      "5\n",
      "---------------------\n",
      "1\n",
      "52\n",
      "103\n",
      "154\n",
      "205\n",
      "######################\n",
      "1\n",
      "52\n",
      "103\n",
      "154\n",
      "205\n",
      "256\n",
      "307\n",
      "358\n",
      "409\n",
      "460\n",
      "511\n",
      "562\n",
      "613\n",
      "664\n",
      "No frame returned from < cv2.VideoCapture 000002668CD8C350>\n",
      "No frame returned from < cv2.VideoCapture 000002668CD8C350>\n",
      "{206: Empty DataFrame\n",
      "Columns: [xcenter, ycenter, width, height, confidence, class, name, frame]\n",
      "Index: [], 257:      xcenter     ycenter       width      height  confidence  class name  \\\n",
      "0  481.12265  511.843506  352.412903  343.960571    0.713498     16  dog   \n",
      "\n",
      "   frame  \n",
      "0    257  , 308:       xcenter     ycenter       width      height  confidence  class  name  \\\n",
      "0  638.264038  478.703522  309.310547  310.663391    0.707275     21  bear   \n",
      "\n",
      "   frame  \n",
      "0    308  , 359:       xcenter     ycenter       width      height  confidence  class  name  \\\n",
      "0  643.230652  480.933289  314.288574  308.479858    0.822613     21  bear   \n",
      "\n",
      "   frame  \n",
      "0    359  , 410:       xcenter     ycenter      width      height  confidence  class  name  \\\n",
      "0  673.392639  481.474609  224.97168  299.005646    0.786135     21  bear   \n",
      "\n",
      "   frame  \n",
      "0    410  , 461:       xcenter     ycenter      width      height  confidence  class  name  \\\n",
      "0  836.790039  470.363098  171.32373  225.226318    0.660001     21  bear   \n",
      "\n",
      "   frame  \n",
      "0    461  , 512:       xcenter     ycenter       width      height  confidence  class  name  \\\n",
      "0  961.052246  482.084473  154.420349  167.469482    0.756031     21  bear   \n",
      "\n",
      "   frame  \n",
      "0    512  , 563:        xcenter     ycenter      width      height  confidence  class  name  \\\n",
      "0  1028.464478  496.446838  91.949646  148.976593    0.821887     21  bear   \n",
      "\n",
      "   frame  \n",
      "0    563  , 614:        xcenter     ycenter      width      height  confidence  class  name  \\\n",
      "0  1038.137451  499.426453  88.991943  136.414795    0.671382     21  bear   \n",
      "\n",
      "   frame  \n",
      "0    614  , 665:        xcenter   ycenter   width      height  confidence  class  name  frame\n",
      "0  1038.156128  500.2854  92.362  132.923706    0.761915     21  bear    665, 716:        xcenter     ycenter      width      height  confidence  class  name  \\\n",
      "0  1040.067871  499.525513  89.282959  132.221436    0.747669     21  bear   \n",
      "\n",
      "   frame  \n",
      "0    716  , 767:        xcenter    ycenter      width      height  confidence  class  name  \\\n",
      "0  1039.556641  499.68689  91.628479  132.526855    0.792752     21  bear   \n",
      "\n",
      "   frame  \n",
      "0    767  , 818:       xcenter    ycenter      width      height  confidence  class  name  \\\n",
      "0  1040.67627  498.37439  89.021667  130.372437    0.791074     21  bear   \n",
      "\n",
      "   frame  \n",
      "0    818  , 869:        xcenter     ycenter      width      height  confidence  class  name  \\\n",
      "0  1036.856812  501.080444  95.066895  124.191895    0.819473     21  bear   \n",
      "\n",
      "   frame  \n",
      "0    869  }\n"
     ]
    }
   ],
   "source": [
    "vid = Video(path='../samples/videos/large2.mp4')\n",
    "cache = FrameCache(max_frames=5)\n",
    "model = Model('yolov5n')\n",
    "\n",
    "# initialize cache\n",
    "cache = vid.fill_cache(frames_skip=49, frame_cache=cache)\n",
    "print(len(cache.frames))\n",
    "print('---------------------')\n",
    "for c in cache.frames:\n",
    "    print(c[0])\n",
    "print('######################')\n",
    "\n",
    "while vid.ret:\n",
    "    frame_num, frame = cache.get_frame()\n",
    "    print(frame_num)\n",
    "    det = model.run(frame, vid)\n",
    "    vid.add_to_cache(frames_skip=50, frame_cache=cache)\n",
    "    \n",
    "print(model.outputs)"
   ]
  },
  {
   "cell_type": "code",
   "execution_count": 3,
   "metadata": {},
   "outputs": [],
   "source": [
    "cap = cv2.VideoCapture('./not_real.mp4')"
   ]
  },
  {
   "cell_type": "code",
   "execution_count": 5,
   "metadata": {},
   "outputs": [
    {
     "data": {
      "text/plain": [
       "False"
      ]
     },
     "execution_count": 5,
     "metadata": {},
     "output_type": "execute_result"
    }
   ],
   "source": [
    "cap.isOpened()\n"
   ]
  },
  {
   "cell_type": "code",
   "execution_count": null,
   "metadata": {},
   "outputs": [],
   "source": []
  }
 ],
 "metadata": {
  "kernelspec": {
   "display_name": ".venv",
   "language": "python",
   "name": "python3"
  },
  "language_info": {
   "codemirror_mode": {
    "name": "ipython",
    "version": 3
   },
   "file_extension": ".py",
   "mimetype": "text/x-python",
   "name": "python",
   "nbconvert_exporter": "python",
   "pygments_lexer": "ipython3",
   "version": "3.9.13"
  },
  "orig_nbformat": 4
 },
 "nbformat": 4,
 "nbformat_minor": 2
}
