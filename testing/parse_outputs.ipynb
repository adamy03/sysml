{
 "cells": [
  {
   "cell_type": "code",
   "execution_count": 3,
   "metadata": {},
   "outputs": [],
   "source": [
    "from torchmetrics.detection.mean_ap import MeanAveragePrecision\n",
    "import torch\n",
    "import pandas as pd "
   ]
  },
  {
   "cell_type": "code",
   "execution_count": 39,
   "metadata": {},
   "outputs": [],
   "source": [
    "# Assumes file is run from testing directory\n",
    "FILE_PATH = \"~/sysml/testing/model_test/yolov5-on-rpi4-2020/johnston_yolov5/yolov5/runs/detect\"\n",
    "\n",
    "\n",
    "def get_predictions_list(file_location, num_files):\n",
    "    predictions_list = []\n",
    "    # Loop through the files containing labels + bboxes for each frame\n",
    "    for i in range(1, num_files+1):\n",
    "        fname = file_location + \"_\" + str(i) + \".txt\"\n",
    "        # Read data\n",
    "        df = pd.read_csv(fname, sep=' ', header=None)\n",
    "        cols = ['label', 'x-center', 'y-center', 'width', 'height', 'conf-score']\n",
    "        # cols = ['label', 'x-center', 'y-center', 'width', 'height'] #for ground truth\n",
    "\n",
    "        df.columns = cols\n",
    "        \n",
    "        # Create FloatTensor containing boxes\n",
    "        bbox_cols = df[['x-center', 'y-center', 'width', 'height']]\n",
    "        boxes = torch.tensor(bbox_cols.values, dtype=torch.float32)\n",
    "        \n",
    "        # Create IntTensor containing labels\n",
    "        labels = torch.tensor(df['label'])\n",
    "        \n",
    "        # Create FloatTensor containing scores\n",
    "        scores = torch.tensor(df['conf-score'])\n",
    "        \n",
    "        # Append dict with boxes, labels, and scores to the list\n",
    "        frame_dict = {'boxes':boxes,\n",
    "                      'labels':labels,\n",
    "                      'scores':scores\n",
    "                      }\n",
    "        predictions_list.append(frame_dict)\n",
    "        \n",
    "        #if (i%50 == 0):\n",
    "            #print(predictions_list)\n",
    "        \n",
    "    return predictions_list\n",
    "        \n",
    "\n",
    "def calculate_accuracy(ground_truth, prediction):\n",
    "    metric = MeanAveragePrecision(iou_type=\"bbox\")\n",
    "    metric.update(prediction, ground_truth)\n",
    "    result = metric.compute()\n",
    "    return result['map'].item()\n",
    "\n",
    "\n",
    "\n",
    "    #mAP = calculate_accuracy(ground_truth, predictions)\n",
    "    #print(\"mAP: \", mAP)\n"
   ]
  },
  {
   "cell_type": "code",
   "execution_count": 37,
   "metadata": {},
   "outputs": [],
   "source": [
    "ground_truth = get_predictions_list(FILE_PATH + \"/german_ground_truth/labels/german\", 200)"
   ]
  },
  {
   "cell_type": "code",
   "execution_count": 40,
   "metadata": {},
   "outputs": [
    {
     "data": {
      "text/plain": [
       "200"
      ]
     },
     "execution_count": 40,
     "metadata": {},
     "output_type": "execute_result"
    }
   ],
   "source": [
    "len(ground_truth)"
   ]
  },
  {
   "cell_type": "code",
   "execution_count": 41,
   "metadata": {},
   "outputs": [],
   "source": [
    "pred = get_predictions_list(FILE_PATH + '/sparse_yolov5l_gt/labels/sparse', 200)"
   ]
  },
  {
   "cell_type": "code",
   "execution_count": 42,
   "metadata": {},
   "outputs": [
    {
     "data": {
      "text/plain": [
       "0.0"
      ]
     },
     "execution_count": 42,
     "metadata": {},
     "output_type": "execute_result"
    }
   ],
   "source": [
    "calculate_accuracy(ground_truth, pred)"
   ]
  },
  {
   "cell_type": "code",
   "execution_count": null,
   "metadata": {},
   "outputs": [],
   "source": [
    "print(\"hello adam\")"
   ]
  }
 ],
 "metadata": {
  "kernelspec": {
   "display_name": "base",
   "language": "python",
   "name": "python3"
  },
  "language_info": {
   "codemirror_mode": {
    "name": "ipython",
    "version": 3
   },
   "file_extension": ".py",
   "mimetype": "text/x-python",
   "name": "python",
   "nbconvert_exporter": "python",
   "pygments_lexer": "ipython3",
   "version": "3.8.8"
  },
  "orig_nbformat": 4
 },
 "nbformat": 4,
 "nbformat_minor": 2
}
