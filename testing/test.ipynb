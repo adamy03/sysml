{
 "cells": [
  {
   "cell_type": "code",
   "execution_count": 2,
   "metadata": {},
   "outputs": [],
   "source": [
    "import os\n",
    "import sys\n",
    "sys.path.append('../va_pipeline/')"
   ]
  },
  {
   "cell_type": "code",
   "execution_count": 3,
   "metadata": {},
   "outputs": [],
   "source": [
    "import subprocess\n",
    "import pandas as pd\n",
    "import numpy as np\n",
    "\n",
    "from calculate_accuracy import *\n",
    "from drawbox import *\n",
    "from sensor import exec_file\n"
   ]
  },
  {
   "cell_type": "code",
   "execution_count": null,
   "metadata": {},
   "outputs": [],
   "source": [
    "draw_boxes(\n",
    "    video_path='../samples/sparse.mp4', \n",
    "    ground_box=pd.read_csv('./test_results/config_testing/sparse_yolov5l_ground_truth.csv'),\n",
    "    inference_box=pd.read_csv('./test_results/config_testing/frame_diff/sparse/diff_sparse_yolov5n_1280_720_25fps_inference.csv'),\n",
    "    output_path='../samples/output_video.mp4')"
   ]
  },
  {
   "cell_type": "code",
   "execution_count": 11,
   "metadata": {},
   "outputs": [],
   "source": [
    "s = 'frames: 250\\n' + \\\n",
    "    'runtime (inference): 297.6342132091522\\n' + \\\n",
    "    'average time per frame: 1.190536852836609'"
   ]
  },
  {
   "cell_type": "code",
   "execution_count": 16,
   "metadata": {},
   "outputs": [],
   "source": [
    "def parse_mod(out_str):\n",
    "    split = out_str.split('\\n')\n",
    "    frames = split[0].split(': ')\n",
    "    runtime = split[1].split(': ')\n",
    "    avg = split[2].split(': ')\n",
    "    return {\n",
    "        frames[0]: int(frames[1]),\n",
    "        runtime[0]: float(runtime[1]),\n",
    "        avg[0]: float(avg[1])\n",
    "    }"
   ]
  },
  {
   "cell_type": "code",
   "execution_count": 17,
   "metadata": {},
   "outputs": [
    {
     "name": "stdout",
     "output_type": "stream",
     "text": [
      "{'frames': 250, 'runtime (inference)': 297.6342132091522, 'average time per frame': 1.190536852836609}\n"
     ]
    }
   ],
   "source": [
    "print(parse_mod(s))"
   ]
  },
  {
   "cell_type": "code",
   "execution_count": null,
   "metadata": {},
   "outputs": [],
   "source": []
  }
 ],
 "metadata": {
  "kernelspec": {
   "display_name": ".venv",
   "language": "python",
   "name": "python3"
  },
  "language_info": {
   "codemirror_mode": {
    "name": "ipython",
    "version": 3
   },
   "file_extension": ".py",
   "mimetype": "text/x-python",
   "name": "python",
   "nbconvert_exporter": "python",
   "pygments_lexer": "ipython3",
   "version": "3.9.13"
  },
  "orig_nbformat": 4
 },
 "nbformat": 4,
 "nbformat_minor": 2
}
