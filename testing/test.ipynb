{
 "cells": [
  {
   "cell_type": "code",
   "execution_count": 1,
   "metadata": {},
   "outputs": [],
   "source": [
    "import os\n",
    "import sys\n",
    "sys.path.append('../va_pipeline/')"
   ]
  },
  {
   "cell_type": "code",
   "execution_count": 2,
   "metadata": {},
   "outputs": [],
   "source": [
    "import subprocess\n",
    "import pandas as pd\n",
    "import numpy as np\n",
    "\n",
    "from calculate_accuracy import *\n",
    "from sensor import exec_file\n"
   ]
  },
  {
   "cell_type": "code",
   "execution_count": 3,
   "metadata": {},
   "outputs": [
    {
     "ename": "ValueError",
     "evalue": "Expected argument `preds` and `target` to have the same length",
     "output_type": "error",
     "traceback": [
      "\u001b[1;31m---------------------------------------------------------------------------\u001b[0m",
      "\u001b[1;31mValueError\u001b[0m                                Traceback (most recent call last)",
      "Cell \u001b[1;32mIn[3], line 23\u001b[0m\n\u001b[0;32m     20\u001b[0m preds \u001b[39m=\u001b[39m get_predictions_list(res_width, res_height, pred_path)\n\u001b[0;32m     22\u001b[0m \u001b[39m# Calculate mAP scores\u001b[39;00m\n\u001b[1;32m---> 23\u001b[0m mAP \u001b[39m=\u001b[39m calculate_accuracy(gt, preds)\n",
      "File \u001b[1;32mc:\\Users\\adamf\\sysml-lab\\sysml\\testing\\../va_pipeline\\calculate_accuracy.py:104\u001b[0m, in \u001b[0;36mcalculate_accuracy\u001b[1;34m(ground_truth, prediction)\u001b[0m\n\u001b[0;32m    102\u001b[0m \u001b[39mdef\u001b[39;00m \u001b[39mcalculate_accuracy\u001b[39m(ground_truth, prediction):\n\u001b[0;32m    103\u001b[0m     metric \u001b[39m=\u001b[39m MeanAveragePrecision(box_format\u001b[39m=\u001b[39m\u001b[39m'\u001b[39m\u001b[39mxywh\u001b[39m\u001b[39m'\u001b[39m, iou_type\u001b[39m=\u001b[39m\u001b[39m\"\u001b[39m\u001b[39mbbox\u001b[39m\u001b[39m\"\u001b[39m)\n\u001b[1;32m--> 104\u001b[0m     metric\u001b[39m.\u001b[39;49mupdate(prediction, ground_truth)\n\u001b[0;32m    105\u001b[0m     result \u001b[39m=\u001b[39m metric\u001b[39m.\u001b[39mcompute()\n\u001b[0;32m    106\u001b[0m     \u001b[39mreturn\u001b[39;00m result[\u001b[39m'\u001b[39m\u001b[39mmap\u001b[39m\u001b[39m'\u001b[39m]\u001b[39m.\u001b[39mitem()\n",
      "File \u001b[1;32mc:\\Users\\adamf\\sysml-lab\\.venv\\lib\\site-packages\\torchmetrics\\metric.py:390\u001b[0m, in \u001b[0;36mMetric._wrap_update.<locals>.wrapped_func\u001b[1;34m(*args, **kwargs)\u001b[0m\n\u001b[0;32m    388\u001b[0m \u001b[39mwith\u001b[39;00m torch\u001b[39m.\u001b[39mset_grad_enabled(\u001b[39mself\u001b[39m\u001b[39m.\u001b[39m_enable_grad):\n\u001b[0;32m    389\u001b[0m     \u001b[39mtry\u001b[39;00m:\n\u001b[1;32m--> 390\u001b[0m         update(\u001b[39m*\u001b[39margs, \u001b[39m*\u001b[39m\u001b[39m*\u001b[39mkwargs)\n\u001b[0;32m    391\u001b[0m     \u001b[39mexcept\u001b[39;00m \u001b[39mRuntimeError\u001b[39;00m \u001b[39mas\u001b[39;00m err:\n\u001b[0;32m    392\u001b[0m         \u001b[39mif\u001b[39;00m \u001b[39m\"\u001b[39m\u001b[39mExpected all tensors to be on\u001b[39m\u001b[39m\"\u001b[39m \u001b[39min\u001b[39;00m \u001b[39mstr\u001b[39m(err):\n",
      "File \u001b[1;32mc:\\Users\\adamf\\sysml-lab\\.venv\\lib\\site-packages\\torchmetrics\\detection\\mean_ap.py:409\u001b[0m, in \u001b[0;36mMeanAveragePrecision.update\u001b[1;34m(self, preds, target)\u001b[0m\n\u001b[0;32m    407\u001b[0m \u001b[39mdef\u001b[39;00m \u001b[39mupdate\u001b[39m(\u001b[39mself\u001b[39m, preds: List[Dict[\u001b[39mstr\u001b[39m, Tensor]], target: List[Dict[\u001b[39mstr\u001b[39m, Tensor]]) \u001b[39m-\u001b[39m\u001b[39m>\u001b[39m \u001b[39mNone\u001b[39;00m:  \u001b[39m# type: ignore\u001b[39;00m\n\u001b[0;32m    408\u001b[0m \u001b[39m    \u001b[39m\u001b[39m\"\"\"Update state with predictions and targets.\"\"\"\u001b[39;00m\n\u001b[1;32m--> 409\u001b[0m     _input_validator(preds, target, iou_type\u001b[39m=\u001b[39;49m\u001b[39mself\u001b[39;49m\u001b[39m.\u001b[39;49miou_type)\n\u001b[0;32m    411\u001b[0m     \u001b[39mfor\u001b[39;00m item \u001b[39min\u001b[39;00m preds:\n\u001b[0;32m    413\u001b[0m         detections \u001b[39m=\u001b[39m \u001b[39mself\u001b[39m\u001b[39m.\u001b[39m_get_safe_item_values(item)\n",
      "File \u001b[1;32mc:\\Users\\adamf\\sysml-lab\\.venv\\lib\\site-packages\\torchmetrics\\detection\\mean_ap.py:154\u001b[0m, in \u001b[0;36m_input_validator\u001b[1;34m(preds, targets, iou_type)\u001b[0m\n\u001b[0;32m    152\u001b[0m     \u001b[39mraise\u001b[39;00m \u001b[39mValueError\u001b[39;00m(\u001b[39m\"\u001b[39m\u001b[39mExpected argument `target` to be of type Sequence\u001b[39m\u001b[39m\"\u001b[39m)\n\u001b[0;32m    153\u001b[0m \u001b[39mif\u001b[39;00m \u001b[39mlen\u001b[39m(preds) \u001b[39m!=\u001b[39m \u001b[39mlen\u001b[39m(targets):\n\u001b[1;32m--> 154\u001b[0m     \u001b[39mraise\u001b[39;00m \u001b[39mValueError\u001b[39;00m(\u001b[39m\"\u001b[39m\u001b[39mExpected argument `preds` and `target` to have the same length\u001b[39m\u001b[39m\"\u001b[39m)\n\u001b[0;32m    155\u001b[0m iou_attribute \u001b[39m=\u001b[39m \u001b[39m\"\u001b[39m\u001b[39mboxes\u001b[39m\u001b[39m\"\u001b[39m \u001b[39mif\u001b[39;00m iou_type \u001b[39m==\u001b[39m \u001b[39m\"\u001b[39m\u001b[39mbbox\u001b[39m\u001b[39m\"\u001b[39m \u001b[39melse\u001b[39;00m \u001b[39m\"\u001b[39m\u001b[39mmasks\u001b[39m\u001b[39m\"\u001b[39m\n\u001b[0;32m    157\u001b[0m \u001b[39mfor\u001b[39;00m k \u001b[39min\u001b[39;00m [iou_attribute, \u001b[39m\"\u001b[39m\u001b[39mscores\u001b[39m\u001b[39m\"\u001b[39m, \u001b[39m\"\u001b[39m\u001b[39mlabels\u001b[39m\u001b[39m\"\u001b[39m]:\n",
      "\u001b[1;31mValueError\u001b[0m: Expected argument `preds` and `target` to have the same length"
     ]
    }
   ],
   "source": [
    "# Change to name and path of output files\n",
    "res_width = 640\n",
    "res_height = 360\n",
    "model = 'yolov5n'\n",
    "source = 'sparse'\n",
    "dest = f'frame_diff/{source}'\n",
    "framerate = 25\n",
    "frame_cap = 250\n",
    "save_results = True\n",
    "\n",
    "test_dir = f'./test_results/config_testing/{dest}/'\n",
    "test_name = f'diff_{source}_{model}_{res_width}_{res_height}_{framerate}fps'\n",
    "test_path = test_dir + test_name\n",
    "\n",
    "gt_path = f'./test_results/config_testing/{source}_yolov5l_ground_truth.csv'\n",
    "gt = get_ground_truth_list(res_width, res_height, gt_path)\n",
    "\n",
    "# Get preds list\n",
    "pred_path = f'{test_path}' +'_inference.csv'\n",
    "preds = get_predictions_list(res_width, res_height, pred_path)\n",
    "\n",
    "# Calculate mAP scores\n",
    "mAP = calculate_accuracy(gt, preds)"
   ]
  },
  {
   "cell_type": "code",
   "execution_count": null,
   "metadata": {},
   "outputs": [],
   "source": []
  }
 ],
 "metadata": {
  "kernelspec": {
   "display_name": ".venv",
   "language": "python",
   "name": "python3"
  },
  "language_info": {
   "codemirror_mode": {
    "name": "ipython",
    "version": 3
   },
   "file_extension": ".py",
   "mimetype": "text/x-python",
   "name": "python",
   "nbconvert_exporter": "python",
   "pygments_lexer": "ipython3",
   "version": "3.9.13"
  },
  "orig_nbformat": 4
 },
 "nbformat": 4,
 "nbformat_minor": 2
}
