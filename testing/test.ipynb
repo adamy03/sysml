{
 "cells": [
  {
   "cell_type": "code",
   "execution_count": 1,
   "metadata": {},
   "outputs": [],
   "source": [
    "import os\n",
    "import sys\n",
    "sys.path.append('../va_pipeline/')"
   ]
  },
  {
   "cell_type": "code",
   "execution_count": 2,
   "metadata": {},
   "outputs": [],
   "source": [
    "import subprocess\n",
    "import pandas as pd\n",
    "import numpy as np\n",
    "\n",
    "from calculate_accuracy import *\n",
    "from sensor import exec_file\n"
   ]
  },
  {
   "cell_type": "code",
   "execution_count": 3,
   "metadata": {},
   "outputs": [],
   "source": [
    "# Change to name and path of output files\n",
    "res_width = 640\n",
    "res_height = 360\n",
    "model = 'yolov5n'\n",
    "source = 'sparse'\n",
    "dest = f'frame_diff/{source}'\n",
    "framerate = 25\n",
    "frame_cap = 250\n",
    "save_results = True\n",
    "\n",
    "test_dir = f'./test_results/config_testing/{dest}/'\n",
    "test_name = f'diff_{source}_{model}_{res_width}_{res_height}_{framerate}fps'\n",
    "test_path = test_dir + test_name\n",
    "\n",
    "gt_path = f'./test_results/config_testing/{source}_yolov5l_ground_truth.csv'\n",
    "gt = get_ground_truth_list(res_width, res_height, gt_path)\n",
    "\n",
    "# Get preds list\n",
    "# pred_path = f'{test_path}' +'_inference.csv'\n",
    "pred_path = './test_results/temp.csv'\n",
    "preds = get_predictions_list(res_width, res_height, pred_path)\n",
    "\n",
    "# Calculate mAP scores\n",
    "mAP = calculate_accuracy(gt, preds)"
   ]
  },
  {
   "cell_type": "code",
   "execution_count": 4,
   "metadata": {},
   "outputs": [
    {
     "name": "stdout",
     "output_type": "stream",
     "text": [
      "0.07586567848920822\n"
     ]
    }
   ],
   "source": [
    "print(mAP)"
   ]
  },
  {
   "cell_type": "code",
   "execution_count": 6,
   "metadata": {},
   "outputs": [
    {
     "data": {
      "text/plain": [
       "250"
      ]
     },
     "execution_count": 6,
     "metadata": {},
     "output_type": "execute_result"
    }
   ],
   "source": [
    "len(gt)"
   ]
  },
  {
   "cell_type": "code",
   "execution_count": 8,
   "metadata": {},
   "outputs": [
    {
     "data": {
      "text/plain": [
       "249"
      ]
     },
     "execution_count": 8,
     "metadata": {},
     "output_type": "execute_result"
    }
   ],
   "source": [
    "len(preds)"
   ]
  },
  {
   "cell_type": "code",
   "execution_count": null,
   "metadata": {},
   "outputs": [],
   "source": []
  }
 ],
 "metadata": {
  "kernelspec": {
   "display_name": ".venv",
   "language": "python",
   "name": "python3"
  },
  "language_info": {
   "codemirror_mode": {
    "name": "ipython",
    "version": 3
   },
   "file_extension": ".py",
   "mimetype": "text/x-python",
   "name": "python",
   "nbconvert_exporter": "python",
   "pygments_lexer": "ipython3",
   "version": "3.9.13"
  },
  "orig_nbformat": 4
 },
 "nbformat": 4,
 "nbformat_minor": 2
}
