{
 "cells": [
  {
   "cell_type": "code",
   "execution_count": 5,
   "metadata": {},
   "outputs": [],
   "source": [
    "import os\n",
    "import sys\n",
    "sys.path.append('../va_pipeline/')\n",
    "import json\n",
    "import subprocess\n",
    "import pandas as pd\n",
    "import numpy as np\n",
    "import matplotlib.pyplot as plt\n",
    "import cv2\n",
    "\n",
    "from calculate_accuracy import *\n",
    "# from drawbox import *\n",
    "from process import *\n",
    "from framedif import *\n",
    "from sensor import exec_file\n",
    "\n"
   ]
  },
  {
   "cell_type": "code",
   "execution_count": 31,
   "metadata": {},
   "outputs": [
    {
     "name": "stdout",
     "output_type": "stream",
     "text": [
      "../samples/testing/videos/large_fast.mp4\n",
      "../samples/testing/videos/large_slow.mp4\n",
      "../samples/testing/videos/small_fast.mp4\n",
      "../samples/testing/videos/small_slow.mp4\n"
     ]
    }
   ],
   "source": [
    "test_dir = '../samples/testing/videos/'\n",
    "\n",
    "# for vid in list(os.listdir(test_dir)):\n",
    "#     print(os.path.join(test_dir, vid))\n",
    "    # cap = cv2.VideoCapture(os.path.join(test_dir, vid))\n",
    "queue = [cap.read()[1], cap.read()[1], cap.read()[1]]\n",
    "\n",
    "ret, prev = cap.read()\n",
    "frame_no = 1\n",
    "frames_processed = 1\n",
    "\n",
    "diffs = []\n",
    "while frame_no <= 250:\n",
    "    ret, frame = cap.read()\n",
    "\n",
    "    if not ret:\n",
    "        break\n",
    "    \n",
    "    queue.pop(0)\n",
    "    queue.append(frame)\n",
    "    frame = get_diff(queue[0], queue[1], queue[2])\n",
    "    \n",
    "    frame_no += 1\n",
    "\n",
    "# df[vid] = diffs\n",
    "cap.release()\n",
    "df.plot()\n"
   ]
  },
  {
   "cell_type": "code",
   "execution_count": 6,
   "metadata": {},
   "outputs": [
    {
     "name": "stderr",
     "output_type": "stream",
     "text": [
      "C:\\Users\\adamf\\AppData\\Local\\Temp\\ipykernel_8556\\68626124.py:13: FutureWarning: Calling int on a single element Series is deprecated and will raise a TypeError in the future. Use int(ser.iloc[0]) instead\n",
      "  df['Resolution (px)'] = int(df['Width (px)']) * int(df['Height (px)'])\n"
     ]
    },
    {
     "ename": "ValueError",
     "evalue": "invalid literal for int() with base 10: 'results/config'",
     "output_type": "error",
     "traceback": [
      "\u001b[1;31m---------------------------------------------------------------------------\u001b[0m",
      "\u001b[1;31mValueError\u001b[0m                                Traceback (most recent call last)",
      "Cell \u001b[1;32mIn[6], line 13\u001b[0m\n\u001b[0;32m      9\u001b[0m df[\u001b[39m'\u001b[39m\u001b[39mVideo\u001b[39m\u001b[39m'\u001b[39m], df[\u001b[39m'\u001b[39m\u001b[39mWidth (px)\u001b[39m\u001b[39m'\u001b[39m], df[\u001b[39m'\u001b[39m\u001b[39mHeight (px)\u001b[39m\u001b[39m'\u001b[39m], df[\u001b[39m'\u001b[39m\u001b[39mFrame Rate (fps)\u001b[39m\u001b[39m'\u001b[39m] \u001b[39m=\u001b[39m \\\n\u001b[0;32m     10\u001b[0m config_params[\u001b[39m0\u001b[39m], config_params[\u001b[39m1\u001b[39m], config_params[\u001b[39m2\u001b[39m], config_params[\u001b[39m3\u001b[39m]\n\u001b[0;32m     12\u001b[0m \u001b[39m# Add columns\u001b[39;00m\n\u001b[1;32m---> 13\u001b[0m df[\u001b[39m'\u001b[39m\u001b[39mResolution (px)\u001b[39m\u001b[39m'\u001b[39m] \u001b[39m=\u001b[39m \u001b[39mint\u001b[39;49m(df[\u001b[39m'\u001b[39;49m\u001b[39mWidth (px)\u001b[39;49m\u001b[39m'\u001b[39;49m]) \u001b[39m*\u001b[39m \u001b[39mint\u001b[39m(df[\u001b[39m'\u001b[39m\u001b[39mHeight (px)\u001b[39m\u001b[39m'\u001b[39m])\n\u001b[0;32m     14\u001b[0m df[\u001b[39m'\u001b[39m\u001b[39mResolution (1000s of px)\u001b[39m\u001b[39m'\u001b[39m] \u001b[39m=\u001b[39m df[\u001b[39m'\u001b[39m\u001b[39mResolution (px)\u001b[39m\u001b[39m'\u001b[39m] \u001b[39m/\u001b[39m \u001b[39m1000\u001b[39m\n\u001b[0;32m     15\u001b[0m df[\u001b[39m'\u001b[39m\u001b[39mEnergy (1000s of J)\u001b[39m\u001b[39m'\u001b[39m] \u001b[39m=\u001b[39m df[\u001b[39m'\u001b[39m\u001b[39menergy\u001b[39m\u001b[39m'\u001b[39m] \u001b[39m/\u001b[39m \u001b[39m1000\u001b[39m\n",
      "File \u001b[1;32mc:\\Users\\adamf\\sysml-lab\\.venv\\lib\\site-packages\\pandas\\core\\series.py:229\u001b[0m, in \u001b[0;36m_coerce_method.<locals>.wrapper\u001b[1;34m(self)\u001b[0m\n\u001b[0;32m    221\u001b[0m \u001b[39mif\u001b[39;00m \u001b[39mlen\u001b[39m(\u001b[39mself\u001b[39m) \u001b[39m==\u001b[39m \u001b[39m1\u001b[39m:\n\u001b[0;32m    222\u001b[0m     warnings\u001b[39m.\u001b[39mwarn(\n\u001b[0;32m    223\u001b[0m         \u001b[39mf\u001b[39m\u001b[39m\"\u001b[39m\u001b[39mCalling \u001b[39m\u001b[39m{\u001b[39;00mconverter\u001b[39m.\u001b[39m\u001b[39m__name__\u001b[39m\u001b[39m}\u001b[39;00m\u001b[39m on a single element Series is \u001b[39m\u001b[39m\"\u001b[39m\n\u001b[0;32m    224\u001b[0m         \u001b[39m\"\u001b[39m\u001b[39mdeprecated and will raise a TypeError in the future. \u001b[39m\u001b[39m\"\u001b[39m\n\u001b[1;32m   (...)\u001b[0m\n\u001b[0;32m    227\u001b[0m         stacklevel\u001b[39m=\u001b[39mfind_stack_level(),\n\u001b[0;32m    228\u001b[0m     )\n\u001b[1;32m--> 229\u001b[0m     \u001b[39mreturn\u001b[39;00m converter(\u001b[39mself\u001b[39;49m\u001b[39m.\u001b[39;49miloc[\u001b[39m0\u001b[39;49m])\n\u001b[0;32m    230\u001b[0m \u001b[39mraise\u001b[39;00m \u001b[39mTypeError\u001b[39;00m(\u001b[39mf\u001b[39m\u001b[39m\"\u001b[39m\u001b[39mcannot convert the series to \u001b[39m\u001b[39m{\u001b[39;00mconverter\u001b[39m}\u001b[39;00m\u001b[39m\"\u001b[39m)\n",
      "\u001b[1;31mValueError\u001b[0m: invalid literal for int() with base 10: 'results/config'"
     ]
    }
   ],
   "source": [
    "file = './test_results/config_testing/resolution/stats/largefast_1280_720_25_stats.txt'\n",
    "df = pd.read_csv(file, \\\n",
    "                    sep=': ', header=None, engine='python').set_index(0)\n",
    "df = df.transpose().reset_index(drop=True)\n",
    "\n",
    "config_params = file.split('_')\n",
    "\n",
    "# Setting columns based on params\n",
    "df['Video'], df['Width (px)'], df['Height (px)'], df['Frame Rate (fps)'] = \\\n",
    "config_params[0], config_params[1], config_params[2], config_params[3]\n",
    "\n",
    "# Add columns\n",
    "df['Resolution (px)'] = int(df['Width (px)']) * int(df['Height (px)'])\n",
    "df['Resolution (1000s of px)'] = df['Resolution (px)'] / 1000\n",
    "df['Energy (1000s of J)'] = df['energy'] / 1000\n",
    "df['Energy (J) per frame'] = df['energy'] / 250\n",
    "\n",
    "\n",
    "# Count # of detections\n",
    "inf_path = str(os.path.splitext(file)[0])[:-5] + \"inference.csv\"\n",
    "with open(inf_path, 'r') as f:\n",
    "    lines = f.readlines()\n",
    "    df['Detections'] = len(lines) - 1  # subtract the first line, which is cols of df\n",
    "    \n"
   ]
  },
  {
   "cell_type": "code",
   "execution_count": null,
   "metadata": {},
   "outputs": [],
   "source": []
  }
 ],
 "metadata": {
  "kernelspec": {
   "display_name": ".venv",
   "language": "python",
   "name": "python3"
  },
  "language_info": {
   "codemirror_mode": {
    "name": "ipython",
    "version": 3
   },
   "file_extension": ".py",
   "mimetype": "text/x-python",
   "name": "python",
   "nbconvert_exporter": "python",
   "pygments_lexer": "ipython3",
   "version": "3.11.4"
  },
  "orig_nbformat": 4
 },
 "nbformat": 4,
 "nbformat_minor": 2
}
