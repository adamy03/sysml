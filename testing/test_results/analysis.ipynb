{
 "cells": [
  {
   "attachments": {},
   "cell_type": "markdown",
   "metadata": {},
   "source": [
    "# **Analysis of Configurations**"
   ]
  },
  {
   "cell_type": "code",
   "execution_count": 1,
   "metadata": {},
   "outputs": [],
   "source": [
    "import pandas as pd\n",
    "import os\n",
    "import numpy as np\n",
    "import matplotlib.pyplot as plt"
   ]
  },
  {
   "cell_type": "code",
   "execution_count": 64,
   "metadata": {},
   "outputs": [],
   "source": [
    "dirs = ['./config_testing/sparse/', './config_testing/medium/', './config_testing/noisy/']\n",
    "dfs = []\n",
    "column_order = ['test_video', 'model', 'width', 'height', 'fps']\n",
    "\n",
    "for dir in dirs:\n",
    "    file_list = os.listdir(dir)\n",
    "\n",
    "    for file in file_list:\n",
    "        file_path = os.path.join(dir, file)\n",
    "\n",
    "        if '.txt' == os.path.splitext(file_path)[1]:\n",
    "            df = pd.read_csv(file_path, \\\n",
    "                             sep=': ', header=None, engine='python').set_index(0)\n",
    "            df = df.transpose().reset_index(drop=True)\n",
    "            \n",
    "            config_params = file.split('_')\n",
    "            \n",
    "            # Setting columns based on params\n",
    "            df['test_video'], df['model'], df['width'], df['height'], df['fps'] = \\\n",
    "            config_params[0], config_params[1], config_params[2], config_params[3], config_params[4]\n",
    "\n",
    "            # Reordering columns\n",
    "            df = df.reindex(columns=column_order+[x for x in df.columns if x not in column_order])\n",
    "\n",
    "            dfs.append(df)\n",
    "\n",
    "config_stats = pd.concat(dfs).reset_index(drop=True)"
   ]
  },
  {
   "cell_type": "code",
   "execution_count": 67,
   "metadata": {},
   "outputs": [
    {
     "data": {
      "text/html": [
       "<div>\n",
       "<style scoped>\n",
       "    .dataframe tbody tr th:only-of-type {\n",
       "        vertical-align: middle;\n",
       "    }\n",
       "\n",
       "    .dataframe tbody tr th {\n",
       "        vertical-align: top;\n",
       "    }\n",
       "\n",
       "    .dataframe thead th {\n",
       "        text-align: right;\n",
       "    }\n",
       "</style>\n",
       "<table border=\"1\" class=\"dataframe\">\n",
       "  <thead>\n",
       "    <tr style=\"text-align: right;\">\n",
       "      <th></th>\n",
       "      <th>test_video</th>\n",
       "      <th>model</th>\n",
       "      <th>width</th>\n",
       "      <th>height</th>\n",
       "      <th>fps</th>\n",
       "      <th>frames</th>\n",
       "      <th>runtime (inference)</th>\n",
       "      <th>average time per frame</th>\n",
       "      <th>runtime (total)</th>\n",
       "      <th>energy</th>\n",
       "      <th>avg power</th>\n",
       "    </tr>\n",
       "  </thead>\n",
       "  <tbody>\n",
       "    <tr>\n",
       "      <th>0</th>\n",
       "      <td>sparse</td>\n",
       "      <td>yolov5n</td>\n",
       "      <td>1280</td>\n",
       "      <td>720</td>\n",
       "      <td>25fps</td>\n",
       "      <td>250.0</td>\n",
       "      <td>500.380793</td>\n",
       "      <td>2.001523</td>\n",
       "      <td>518.949597</td>\n",
       "      <td>2804.991580</td>\n",
       "      <td>5.405133</td>\n",
       "    </tr>\n",
       "    <tr>\n",
       "      <th>1</th>\n",
       "      <td>sparse</td>\n",
       "      <td>yolov5n</td>\n",
       "      <td>640</td>\n",
       "      <td>480</td>\n",
       "      <td>25fps</td>\n",
       "      <td>250.0</td>\n",
       "      <td>148.031616</td>\n",
       "      <td>0.592126</td>\n",
       "      <td>166.523540</td>\n",
       "      <td>901.025770</td>\n",
       "      <td>5.410801</td>\n",
       "    </tr>\n",
       "    <tr>\n",
       "      <th>2</th>\n",
       "      <td>medium</td>\n",
       "      <td>yolov5n</td>\n",
       "      <td>1280</td>\n",
       "      <td>720</td>\n",
       "      <td>25fps</td>\n",
       "      <td>250.0</td>\n",
       "      <td>505.562711</td>\n",
       "      <td>2.022251</td>\n",
       "      <td>524.999192</td>\n",
       "      <td>2897.454566</td>\n",
       "      <td>5.518970</td>\n",
       "    </tr>\n",
       "    <tr>\n",
       "      <th>3</th>\n",
       "      <td>medium</td>\n",
       "      <td>yolov5n</td>\n",
       "      <td>640</td>\n",
       "      <td>480</td>\n",
       "      <td>25fps</td>\n",
       "      <td>250.0</td>\n",
       "      <td>147.012528</td>\n",
       "      <td>0.588050</td>\n",
       "      <td>165.442936</td>\n",
       "      <td>892.088789</td>\n",
       "      <td>5.392124</td>\n",
       "    </tr>\n",
       "    <tr>\n",
       "      <th>4</th>\n",
       "      <td>noisy</td>\n",
       "      <td>yolov5n</td>\n",
       "      <td>1280</td>\n",
       "      <td>720</td>\n",
       "      <td>25fps</td>\n",
       "      <td>250.0</td>\n",
       "      <td>490.770661</td>\n",
       "      <td>1.963083</td>\n",
       "      <td>509.610191</td>\n",
       "      <td>2840.652493</td>\n",
       "      <td>5.574167</td>\n",
       "    </tr>\n",
       "    <tr>\n",
       "      <th>5</th>\n",
       "      <td>noisy</td>\n",
       "      <td>yolov5n</td>\n",
       "      <td>640</td>\n",
       "      <td>480</td>\n",
       "      <td>25fps</td>\n",
       "      <td>250.0</td>\n",
       "      <td>148.000303</td>\n",
       "      <td>0.592001</td>\n",
       "      <td>166.396719</td>\n",
       "      <td>897.389939</td>\n",
       "      <td>5.393075</td>\n",
       "    </tr>\n",
       "  </tbody>\n",
       "</table>\n",
       "</div>"
      ],
      "text/plain": [
       "0 test_video    model width height    fps  frames  runtime (inference)  \\\n",
       "0     sparse  yolov5n  1280    720  25fps   250.0           500.380793   \n",
       "1     sparse  yolov5n   640    480  25fps   250.0           148.031616   \n",
       "2     medium  yolov5n  1280    720  25fps   250.0           505.562711   \n",
       "3     medium  yolov5n   640    480  25fps   250.0           147.012528   \n",
       "4      noisy  yolov5n  1280    720  25fps   250.0           490.770661   \n",
       "5      noisy  yolov5n   640    480  25fps   250.0           148.000303   \n",
       "\n",
       "0  average time per frame  runtime (total)       energy  avg power  \n",
       "0                2.001523       518.949597  2804.991580   5.405133  \n",
       "1                0.592126       166.523540   901.025770   5.410801  \n",
       "2                2.022251       524.999192  2897.454566   5.518970  \n",
       "3                0.588050       165.442936   892.088789   5.392124  \n",
       "4                1.963083       509.610191  2840.652493   5.574167  \n",
       "5                0.592001       166.396719   897.389939   5.393075  "
      ]
     },
     "execution_count": 67,
     "metadata": {},
     "output_type": "execute_result"
    }
   ],
   "source": [
    "config_stats"
   ]
  },
  {
   "cell_type": "code",
   "execution_count": 70,
   "metadata": {},
   "outputs": [
    {
     "data": {
      "text/plain": [
       "<matplotlib.collections.PathCollection at 0x210356c8e50>"
      ]
     },
     "execution_count": 70,
     "metadata": {},
     "output_type": "execute_result"
    },
    {
     "data": {
      "image/png": "[encoded data removed]",
      "text/plain": [
       "<Figure size 640x480 with 1 Axes>"
      ]
     },
     "metadata": {},
     "output_type": "display_data"
    }
   ],
   "source": [
    "plt.scatter(config_stats['width'] + config_stats['height'], config_stats['energy'])"
   ]
  },
  {
   "cell_type": "code",
   "execution_count": null,
   "metadata": {},
   "outputs": [],
   "source": []
  },
  {
   "cell_type": "code",
   "execution_count": null,
   "metadata": {},
   "outputs": [],
   "source": []
  }
 ],
 "metadata": {
  "kernelspec": {
   "display_name": ".venv",
   "language": "python",
   "name": "python3"
  },
  "language_info": {
   "codemirror_mode": {
    "name": "ipython",
    "version": 3
   },
   "file_extension": ".py",
   "mimetype": "text/x-python",
   "name": "python",
   "nbconvert_exporter": "python",
   "pygments_lexer": "ipython3",
   "version": "3.9.13"
  },
  "orig_nbformat": 4
 },
 "nbformat": 4,
 "nbformat_minor": 2
}
