{
 "cells": [
  {
   "cell_type": "code",
   "execution_count": null,
   "metadata": {},
   "outputs": [],
   "source": [
    "import time\n",
    "import subprocess\n",
    "import pandas as pd\n",
    "from sensor import exec_file\n",
    "from run_test import run_file\n",
    "\n",
    "SSH_PI3 = \"ssh pi@172.28.69.200\"\n",
    "SSH_PI4 = \"ssh pi@172.28.81.58\""
   ]
  },
  {
   "cell_type": "code",
   "execution_count": null,
   "metadata": {},
   "outputs": [],
   "source": [
    "df = pd.read_clipboard()"
   ]
  },
  {
   "cell_type": "code",
   "execution_count": null,
   "metadata": {},
   "outputs": [],
   "source": [
    "df.drop(labels='Unnamed: 4', axis=1, inplace=True)\n",
    "df['Power (W)'] = df['Voltage(V) - Voltage  graph'] * df['Current(A) - Current graph'] \n",
    "factor = 192.843 / df['Read times - Voltage  graph'].iloc[-1]\n",
    "df['Time (s)'] = factor * df['Read times - Voltage  graph']\n"
   ]
  },
  {
   "cell_type": "code",
   "execution_count": null,
   "metadata": {},
   "outputs": [],
   "source": [
    "df.to_csv('./test_results/5sec_resnet50_compress.csv')\n",
    "\n",
    "# Total time for prediction: 157.10361647605896\n",
    "# Time per frame: 2.3448300966575966\n",
    "# starting sensor...\n",
    "# running file...\n",
    "# stopping sensor\n",
    "# run time: 192.84393119812012\n"
   ]
  },
  {
   "cell_type": "code",
   "execution_count": 10,
   "metadata": {},
   "outputs": [],
   "source": [
    "df = pd.read_clipboard()"
   ]
  },
  {
   "cell_type": "code",
   "execution_count": 12,
   "metadata": {},
   "outputs": [],
   "source": [
    "df.to_csv('./test_results/5sec_resnet50_compress.csv')\n",
    "\n",
    "# Total time for prediction: 157.10361647605896\n",
    "# Time per frame: 2.3448300966575966\n",
    "# starting sensor...\n",
    "# running file...\n",
    "# stopping sensor\n",
    "# run time: 192.84393119812012\n"
   ]
  },
  {
   "cell_type": "code",
   "execution_count": 4,
   "metadata": {},
   "outputs": [
    {
     "name": "stderr",
     "output_type": "stream",
     "text": [
      "Using cache found in C:\\Users\\adamf/.cache\\torch\\hub\\ultralytics_yolov5_master\n",
      "YOLOv5  2023-6-23 Python-3.9.13 torch-2.0.1+cpu CPU\n",
      "\n",
      "Fusing layers... \n",
      "YOLOv5s summary: 213 layers, 7225885 parameters, 0 gradients\n",
      "Adding AutoShape... \n"
     ]
    }
   ],
   "source": [
    "import cv2\n",
    "import torch\n",
    "from PIL import Image\n",
    "\n",
    "# Model\n",
    "model = torch.hub.load('ultralytics/yolov5', 'yolov5s')\n",
    "out = model('../../samples/elephant.jpg')"
   ]
  },
  {
   "cell_type": "code",
   "execution_count": 5,
   "metadata": {},
   "outputs": [
    {
     "name": "stderr",
     "output_type": "stream",
     "text": [
      "image 1/1: 435x639 6 persons, 1 bicycle, 1 elephant, 1 banana\n",
      "Speed: 3.9ms pre-process, 164.2ms inference, 1.0ms NMS per image at shape (1, 3, 448, 640)\n",
      "Saved 1 image to \u001b[1mruns\\detect\\exp2\u001b[0m\n"
     ]
    },
    {
     "data": {
      "text/html": [
       "<div>\n",
       "<style scoped>\n",
       "    .dataframe tbody tr th:only-of-type {\n",
       "        vertical-align: middle;\n",
       "    }\n",
       "\n",
       "    .dataframe tbody tr th {\n",
       "        vertical-align: top;\n",
       "    }\n",
       "\n",
       "    .dataframe thead th {\n",
       "        text-align: right;\n",
       "    }\n",
       "</style>\n",
       "<table border=\"1\" class=\"dataframe\">\n",
       "  <thead>\n",
       "    <tr style=\"text-align: right;\">\n",
       "      <th></th>\n",
       "      <th>xmin</th>\n",
       "      <th>ymin</th>\n",
       "      <th>xmax</th>\n",
       "      <th>ymax</th>\n",
       "      <th>confidence</th>\n",
       "      <th>class</th>\n",
       "      <th>name</th>\n",
       "    </tr>\n",
       "  </thead>\n",
       "  <tbody>\n",
       "    <tr>\n",
       "      <th>0</th>\n",
       "      <td>247.197769</td>\n",
       "      <td>43.232891</td>\n",
       "      <td>482.033875</td>\n",
       "      <td>355.456024</td>\n",
       "      <td>0.927303</td>\n",
       "      <td>20</td>\n",
       "      <td>elephant</td>\n",
       "    </tr>\n",
       "    <tr>\n",
       "      <th>1</th>\n",
       "      <td>593.073730</td>\n",
       "      <td>175.779648</td>\n",
       "      <td>619.197021</td>\n",
       "      <td>241.594177</td>\n",
       "      <td>0.856617</td>\n",
       "      <td>0</td>\n",
       "      <td>person</td>\n",
       "    </tr>\n",
       "    <tr>\n",
       "      <th>2</th>\n",
       "      <td>500.020020</td>\n",
       "      <td>171.573730</td>\n",
       "      <td>535.725647</td>\n",
       "      <td>247.073227</td>\n",
       "      <td>0.803448</td>\n",
       "      <td>0</td>\n",
       "      <td>person</td>\n",
       "    </tr>\n",
       "    <tr>\n",
       "      <th>3</th>\n",
       "      <td>173.739075</td>\n",
       "      <td>186.786438</td>\n",
       "      <td>252.370621</td>\n",
       "      <td>250.572998</td>\n",
       "      <td>0.794312</td>\n",
       "      <td>1</td>\n",
       "      <td>bicycle</td>\n",
       "    </tr>\n",
       "    <tr>\n",
       "      <th>4</th>\n",
       "      <td>164.026596</td>\n",
       "      <td>352.077545</td>\n",
       "      <td>244.542130</td>\n",
       "      <td>403.921265</td>\n",
       "      <td>0.726182</td>\n",
       "      <td>46</td>\n",
       "      <td>banana</td>\n",
       "    </tr>\n",
       "    <tr>\n",
       "      <th>5</th>\n",
       "      <td>117.086525</td>\n",
       "      <td>129.475952</td>\n",
       "      <td>186.859985</td>\n",
       "      <td>355.838531</td>\n",
       "      <td>0.707813</td>\n",
       "      <td>0</td>\n",
       "      <td>person</td>\n",
       "    </tr>\n",
       "    <tr>\n",
       "      <th>6</th>\n",
       "      <td>488.471069</td>\n",
       "      <td>177.015656</td>\n",
       "      <td>509.134338</td>\n",
       "      <td>243.203140</td>\n",
       "      <td>0.695648</td>\n",
       "      <td>0</td>\n",
       "      <td>person</td>\n",
       "    </tr>\n",
       "    <tr>\n",
       "      <th>7</th>\n",
       "      <td>555.118408</td>\n",
       "      <td>172.470459</td>\n",
       "      <td>578.478699</td>\n",
       "      <td>233.526886</td>\n",
       "      <td>0.662510</td>\n",
       "      <td>0</td>\n",
       "      <td>person</td>\n",
       "    </tr>\n",
       "    <tr>\n",
       "      <th>8</th>\n",
       "      <td>38.340199</td>\n",
       "      <td>241.975464</td>\n",
       "      <td>185.955719</td>\n",
       "      <td>401.441620</td>\n",
       "      <td>0.494688</td>\n",
       "      <td>0</td>\n",
       "      <td>person</td>\n",
       "    </tr>\n",
       "  </tbody>\n",
       "</table>\n",
       "</div>"
      ],
      "text/plain": [
       "         xmin        ymin        xmax        ymax  confidence  class      name\n",
       "0  247.197769   43.232891  482.033875  355.456024    0.927303     20  elephant\n",
       "1  593.073730  175.779648  619.197021  241.594177    0.856617      0    person\n",
       "2  500.020020  171.573730  535.725647  247.073227    0.803448      0    person\n",
       "3  173.739075  186.786438  252.370621  250.572998    0.794312      1   bicycle\n",
       "4  164.026596  352.077545  244.542130  403.921265    0.726182     46    banana\n",
       "5  117.086525  129.475952  186.859985  355.838531    0.707813      0    person\n",
       "6  488.471069  177.015656  509.134338  243.203140    0.695648      0    person\n",
       "7  555.118408  172.470459  578.478699  233.526886    0.662510      0    person\n",
       "8   38.340199  241.975464  185.955719  401.441620    0.494688      0    person"
      ]
     },
     "execution_count": 5,
     "metadata": {},
     "output_type": "execute_result"
    }
   ],
   "source": [
    "out.print()  \n",
    "out.save()  # or .show()\n",
    "\n",
    "out.xyxy[0]  # im1 predictions (tensor)\n",
    "out.pandas().xyxy[0]"
   ]
  },
  {
   "cell_type": "code",
   "execution_count": 8,
   "metadata": {},
   "outputs": [
    {
     "ename": "HTTPError",
     "evalue": "HTTP Error 404: Not Found",
     "output_type": "error",
     "traceback": [
      "\u001b[1;31m---------------------------------------------------------------------------\u001b[0m",
      "\u001b[1;31mHTTPError\u001b[0m                                 Traceback (most recent call last)",
      "Cell \u001b[1;32mIn[8], line 1\u001b[0m\n\u001b[1;32m----> 1\u001b[0m entrypoints \u001b[39m=\u001b[39m torch\u001b[39m.\u001b[39;49mhub\u001b[39m.\u001b[39;49mlist(\u001b[39m'\u001b[39;49m\u001b[39multralytics/\u001b[39;49m\u001b[39m'\u001b[39;49m, force_reload\u001b[39m=\u001b[39;49m\u001b[39mTrue\u001b[39;49;00m)\n",
      "File \u001b[1;32mc:\\Users\\adamf\\sysml-lab\\.venv\\lib\\site-packages\\torch\\hub.py:415\u001b[0m, in \u001b[0;36mlist\u001b[1;34m(github, force_reload, skip_validation, trust_repo)\u001b[0m\n\u001b[0;32m    375\u001b[0m \u001b[39mdef\u001b[39;00m \u001b[39mlist\u001b[39m(github, force_reload\u001b[39m=\u001b[39m\u001b[39mFalse\u001b[39;00m, skip_validation\u001b[39m=\u001b[39m\u001b[39mFalse\u001b[39;00m, trust_repo\u001b[39m=\u001b[39m\u001b[39mNone\u001b[39;00m):\n\u001b[0;32m    376\u001b[0m \u001b[39m    \u001b[39m\u001b[39mr\u001b[39m\u001b[39m\"\"\"\u001b[39;00m\n\u001b[0;32m    377\u001b[0m \u001b[39m    List all callable entrypoints available in the repo specified by ``github``.\u001b[39;00m\n\u001b[0;32m    378\u001b[0m \n\u001b[1;32m   (...)\u001b[0m\n\u001b[0;32m    413\u001b[0m \u001b[39m        >>> entrypoints = torch.hub.list('pytorch/vision', force_reload=True)\u001b[39;00m\n\u001b[0;32m    414\u001b[0m \u001b[39m    \"\"\"\u001b[39;00m\n\u001b[1;32m--> 415\u001b[0m     repo_dir \u001b[39m=\u001b[39m _get_cache_or_reload(github, force_reload, trust_repo, \u001b[39m\"\u001b[39;49m\u001b[39mlist\u001b[39;49m\u001b[39m\"\u001b[39;49m, verbose\u001b[39m=\u001b[39;49m\u001b[39mTrue\u001b[39;49;00m,\n\u001b[0;32m    416\u001b[0m                                     skip_validation\u001b[39m=\u001b[39;49mskip_validation)\n\u001b[0;32m    418\u001b[0m     \u001b[39mwith\u001b[39;00m _add_to_sys_path(repo_dir):\n\u001b[0;32m    419\u001b[0m         hubconf_path \u001b[39m=\u001b[39m os\u001b[39m.\u001b[39mpath\u001b[39m.\u001b[39mjoin(repo_dir, MODULE_HUBCONF)\n",
      "File \u001b[1;32mc:\\Users\\adamf\\sysml-lab\\.venv\\lib\\site-packages\\torch\\hub.py:222\u001b[0m, in \u001b[0;36m_get_cache_or_reload\u001b[1;34m(github, force_reload, trust_repo, calling_fn, verbose, skip_validation)\u001b[0m\n\u001b[0;32m    219\u001b[0m \u001b[39melse\u001b[39;00m:\n\u001b[0;32m    220\u001b[0m     \u001b[39m# Validate the tag/branch is from the original repo instead of a forked repo\u001b[39;00m\n\u001b[0;32m    221\u001b[0m     \u001b[39mif\u001b[39;00m \u001b[39mnot\u001b[39;00m skip_validation:\n\u001b[1;32m--> 222\u001b[0m         _validate_not_a_forked_repo(repo_owner, repo_name, ref)\n\u001b[0;32m    224\u001b[0m     cached_file \u001b[39m=\u001b[39m os\u001b[39m.\u001b[39mpath\u001b[39m.\u001b[39mjoin(hub_dir, normalized_br \u001b[39m+\u001b[39m \u001b[39m'\u001b[39m\u001b[39m.zip\u001b[39m\u001b[39m'\u001b[39m)\n\u001b[0;32m    225\u001b[0m     _remove_if_exists(cached_file)\n",
      "File \u001b[1;32mc:\\Users\\adamf\\sysml-lab\\.venv\\lib\\site-packages\\torch\\hub.py:181\u001b[0m, in \u001b[0;36m_validate_not_a_forked_repo\u001b[1;34m(repo_owner, repo_name, ref)\u001b[0m\n\u001b[0;32m    179\u001b[0m page \u001b[39m+\u001b[39m\u001b[39m=\u001b[39m \u001b[39m1\u001b[39m\n\u001b[0;32m    180\u001b[0m url \u001b[39m=\u001b[39m \u001b[39mf\u001b[39m\u001b[39m'\u001b[39m\u001b[39m{\u001b[39;00murl_prefix\u001b[39m}\u001b[39;00m\u001b[39m?per_page=100&page=\u001b[39m\u001b[39m{\u001b[39;00mpage\u001b[39m}\u001b[39;00m\u001b[39m'\u001b[39m\n\u001b[1;32m--> 181\u001b[0m response \u001b[39m=\u001b[39m json\u001b[39m.\u001b[39mloads(_read_url(Request(url, headers\u001b[39m=\u001b[39;49mheaders)))\n\u001b[0;32m    182\u001b[0m \u001b[39m# Empty response means no more data to process\u001b[39;00m\n\u001b[0;32m    183\u001b[0m \u001b[39mif\u001b[39;00m \u001b[39mnot\u001b[39;00m response:\n",
      "File \u001b[1;32mc:\\Users\\adamf\\sysml-lab\\.venv\\lib\\site-packages\\torch\\hub.py:164\u001b[0m, in \u001b[0;36m_read_url\u001b[1;34m(url)\u001b[0m\n\u001b[0;32m    163\u001b[0m \u001b[39mdef\u001b[39;00m \u001b[39m_read_url\u001b[39m(url):\n\u001b[1;32m--> 164\u001b[0m     \u001b[39mwith\u001b[39;00m urlopen(url) \u001b[39mas\u001b[39;00m r:\n\u001b[0;32m    165\u001b[0m         \u001b[39mreturn\u001b[39;00m r\u001b[39m.\u001b[39mread()\u001b[39m.\u001b[39mdecode(r\u001b[39m.\u001b[39mheaders\u001b[39m.\u001b[39mget_content_charset(\u001b[39m'\u001b[39m\u001b[39mutf-8\u001b[39m\u001b[39m'\u001b[39m))\n",
      "File \u001b[1;32mC:\\Program Files\\WindowsApps\\PythonSoftwareFoundation.Python.3.9_3.9.3568.0_x64__qbz5n2kfra8p0\\lib\\urllib\\request.py:214\u001b[0m, in \u001b[0;36murlopen\u001b[1;34m(url, data, timeout, cafile, capath, cadefault, context)\u001b[0m\n\u001b[0;32m    212\u001b[0m \u001b[39melse\u001b[39;00m:\n\u001b[0;32m    213\u001b[0m     opener \u001b[39m=\u001b[39m _opener\n\u001b[1;32m--> 214\u001b[0m \u001b[39mreturn\u001b[39;00m opener\u001b[39m.\u001b[39;49mopen(url, data, timeout)\n",
      "File \u001b[1;32mC:\\Program Files\\WindowsApps\\PythonSoftwareFoundation.Python.3.9_3.9.3568.0_x64__qbz5n2kfra8p0\\lib\\urllib\\request.py:523\u001b[0m, in \u001b[0;36mOpenerDirector.open\u001b[1;34m(self, fullurl, data, timeout)\u001b[0m\n\u001b[0;32m    521\u001b[0m \u001b[39mfor\u001b[39;00m processor \u001b[39min\u001b[39;00m \u001b[39mself\u001b[39m\u001b[39m.\u001b[39mprocess_response\u001b[39m.\u001b[39mget(protocol, []):\n\u001b[0;32m    522\u001b[0m     meth \u001b[39m=\u001b[39m \u001b[39mgetattr\u001b[39m(processor, meth_name)\n\u001b[1;32m--> 523\u001b[0m     response \u001b[39m=\u001b[39m meth(req, response)\n\u001b[0;32m    525\u001b[0m \u001b[39mreturn\u001b[39;00m response\n",
      "File \u001b[1;32mC:\\Program Files\\WindowsApps\\PythonSoftwareFoundation.Python.3.9_3.9.3568.0_x64__qbz5n2kfra8p0\\lib\\urllib\\request.py:632\u001b[0m, in \u001b[0;36mHTTPErrorProcessor.http_response\u001b[1;34m(self, request, response)\u001b[0m\n\u001b[0;32m    629\u001b[0m \u001b[39m# According to RFC 2616, \"2xx\" code indicates that the client's\u001b[39;00m\n\u001b[0;32m    630\u001b[0m \u001b[39m# request was successfully received, understood, and accepted.\u001b[39;00m\n\u001b[0;32m    631\u001b[0m \u001b[39mif\u001b[39;00m \u001b[39mnot\u001b[39;00m (\u001b[39m200\u001b[39m \u001b[39m<\u001b[39m\u001b[39m=\u001b[39m code \u001b[39m<\u001b[39m \u001b[39m300\u001b[39m):\n\u001b[1;32m--> 632\u001b[0m     response \u001b[39m=\u001b[39m \u001b[39mself\u001b[39;49m\u001b[39m.\u001b[39;49mparent\u001b[39m.\u001b[39;49merror(\n\u001b[0;32m    633\u001b[0m         \u001b[39m'\u001b[39;49m\u001b[39mhttp\u001b[39;49m\u001b[39m'\u001b[39;49m, request, response, code, msg, hdrs)\n\u001b[0;32m    635\u001b[0m \u001b[39mreturn\u001b[39;00m response\n",
      "File \u001b[1;32mC:\\Program Files\\WindowsApps\\PythonSoftwareFoundation.Python.3.9_3.9.3568.0_x64__qbz5n2kfra8p0\\lib\\urllib\\request.py:561\u001b[0m, in \u001b[0;36mOpenerDirector.error\u001b[1;34m(self, proto, *args)\u001b[0m\n\u001b[0;32m    559\u001b[0m \u001b[39mif\u001b[39;00m http_err:\n\u001b[0;32m    560\u001b[0m     args \u001b[39m=\u001b[39m (\u001b[39mdict\u001b[39m, \u001b[39m'\u001b[39m\u001b[39mdefault\u001b[39m\u001b[39m'\u001b[39m, \u001b[39m'\u001b[39m\u001b[39mhttp_error_default\u001b[39m\u001b[39m'\u001b[39m) \u001b[39m+\u001b[39m orig_args\n\u001b[1;32m--> 561\u001b[0m     \u001b[39mreturn\u001b[39;00m \u001b[39mself\u001b[39;49m\u001b[39m.\u001b[39;49m_call_chain(\u001b[39m*\u001b[39;49margs)\n",
      "File \u001b[1;32mC:\\Program Files\\WindowsApps\\PythonSoftwareFoundation.Python.3.9_3.9.3568.0_x64__qbz5n2kfra8p0\\lib\\urllib\\request.py:494\u001b[0m, in \u001b[0;36mOpenerDirector._call_chain\u001b[1;34m(self, chain, kind, meth_name, *args)\u001b[0m\n\u001b[0;32m    492\u001b[0m \u001b[39mfor\u001b[39;00m handler \u001b[39min\u001b[39;00m handlers:\n\u001b[0;32m    493\u001b[0m     func \u001b[39m=\u001b[39m \u001b[39mgetattr\u001b[39m(handler, meth_name)\n\u001b[1;32m--> 494\u001b[0m     result \u001b[39m=\u001b[39m func(\u001b[39m*\u001b[39;49margs)\n\u001b[0;32m    495\u001b[0m     \u001b[39mif\u001b[39;00m result \u001b[39mis\u001b[39;00m \u001b[39mnot\u001b[39;00m \u001b[39mNone\u001b[39;00m:\n\u001b[0;32m    496\u001b[0m         \u001b[39mreturn\u001b[39;00m result\n",
      "File \u001b[1;32mC:\\Program Files\\WindowsApps\\PythonSoftwareFoundation.Python.3.9_3.9.3568.0_x64__qbz5n2kfra8p0\\lib\\urllib\\request.py:641\u001b[0m, in \u001b[0;36mHTTPDefaultErrorHandler.http_error_default\u001b[1;34m(self, req, fp, code, msg, hdrs)\u001b[0m\n\u001b[0;32m    640\u001b[0m \u001b[39mdef\u001b[39;00m \u001b[39mhttp_error_default\u001b[39m(\u001b[39mself\u001b[39m, req, fp, code, msg, hdrs):\n\u001b[1;32m--> 641\u001b[0m     \u001b[39mraise\u001b[39;00m HTTPError(req\u001b[39m.\u001b[39mfull_url, code, msg, hdrs, fp)\n",
      "\u001b[1;31mHTTPError\u001b[0m: HTTP Error 404: Not Found"
     ]
    }
   ],
   "source": [
    "entrypoints = torch.hub.list('ultralytics/', force_reload=True)\n"
   ]
  },
  {
   "cell_type": "code",
   "execution_count": null,
   "metadata": {},
   "outputs": [],
   "source": []
  }
 ],
 "metadata": {
  "kernelspec": {
   "display_name": "base",
   "language": "python",
   "name": "python3"
  },
  "language_info": {
   "codemirror_mode": {
    "name": "ipython",
    "version": 3
   },
   "file_extension": ".py",
   "mimetype": "text/x-python",
   "name": "python",
   "nbconvert_exporter": "python",
   "pygments_lexer": "ipython3",
   "version": "3.9.13"
  },
  "orig_nbformat": 4
 },
 "nbformat": 4,
 "nbformat_minor": 2
}
