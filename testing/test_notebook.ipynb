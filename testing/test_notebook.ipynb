{
 "cells": [
  {
   "cell_type": "code",
   "execution_count": 9,
   "metadata": {},
   "outputs": [],
   "source": [
    "import time\n",
    "import subprocess\n",
    "import pandas as pd\n",
    "from sensor import exec_file\n",
    "from run_test import run_file\n",
    "\n",
    "SSH_PI3 = \"ssh pi@172.28.69.200\"\n",
    "SSH_PI4 = \"ssh pi@172.28.81.58\""
   ]
  },
  {
   "cell_type": "code",
   "execution_count": 10,
   "metadata": {},
   "outputs": [],
   "source": [
    "df = pd.read_clipboard()"
   ]
  },
  {
   "cell_type": "code",
   "execution_count": 11,
   "metadata": {},
   "outputs": [],
   "source": [
    "df.drop(labels='Unnamed: 4', axis=1, inplace=True)\n",
    "df['Power (W)'] = df['Voltage(V) - Voltage  graph'] * df['Current(A) - Current graph'] \n",
    "factor = 192.843 / df['Read times - Voltage  graph'].iloc[-1]\n",
    "df['Time (s)'] = factor * df['Read times - Voltage  graph']\n"
   ]
  },
  {
   "cell_type": "code",
   "execution_count": 12,
   "metadata": {},
   "outputs": [],
   "source": [
    "df.to_csv('./test_results/5sec_resnet50_compress.csv')\n",
    "\n",
    "# Total time for prediction: 157.10361647605896\n",
    "# Time per frame: 2.3448300966575966\n",
    "# starting sensor...\n",
    "# running file...\n",
    "# stopping sensor\n",
    "# run time: 192.84393119812012\n"
   ]
  },
  {
   "cell_type": "code",
   "execution_count": null,
   "metadata": {},
   "outputs": [],
   "source": []
  },
  {
   "cell_type": "code",
   "execution_count": null,
   "metadata": {},
   "outputs": [],
   "source": []
  }
 ],
 "metadata": {
  "kernelspec": {
   "display_name": "base",
   "language": "python",
   "name": "python3"
  },
  "language_info": {
   "codemirror_mode": {
    "name": "ipython",
    "version": 3
   },
   "file_extension": ".py",
   "mimetype": "text/x-python",
   "name": "python",
   "nbconvert_exporter": "python",
   "pygments_lexer": "ipython3",
   "version": "3.8.8"
  },
  "orig_nbformat": 4
 },
 "nbformat": 4,
 "nbformat_minor": 2
}
