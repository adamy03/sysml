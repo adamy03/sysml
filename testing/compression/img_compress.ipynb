{
 "cells": [
  {
   "attachments": {},
   "cell_type": "markdown",
   "metadata": {},
   "source": [
    "Adapted from: https://github.com/kyatou/python-opencv_tutorial/blob/master/08_image_encode_decode.py"
   ]
  },
  {
   "cell_type": "code",
   "execution_count": 4,
   "metadata": {},
   "outputs": [],
   "source": [
    "import cv2 \n",
    "import os"
   ]
  },
  {
   "cell_type": "code",
   "execution_count": 5,
   "metadata": {},
   "outputs": [],
   "source": [
    "img = cv2.imread('./samples/intersection.jpg',1)\n",
    "\n",
    "#encode to jpeg format\n",
    "#encode param image quality 0 to 100. default:95\n",
    "#if you want to shrink data size, choose low image quality.\n",
    "encode_param=[int(cv2.IMWRITE_JPEG_QUALITY),50]\n",
    "result,encimg=cv2.imencode('.jpg',img,encode_param)"
   ]
  },
  {
   "cell_type": "code",
   "execution_count": 6,
   "metadata": {},
   "outputs": [],
   "source": [
    "decimg=cv2.imdecode(encimg,1)\n",
    "\n",
    "cv2.imshow('Source Image',img)\n",
    "cv2.imshow('Decoded image',decimg)\n",
    "cv2.waitKey(0)\n",
    "cv2.destroyAllWindows() "
   ]
  }
 ],
 "metadata": {
  "kernelspec": {
   "display_name": "base",
   "language": "python",
   "name": "python3"
  },
  "language_info": {
   "codemirror_mode": {
    "name": "ipython",
    "version": 3
   },
   "file_extension": ".py",
   "mimetype": "text/x-python",
   "name": "python",
   "nbconvert_exporter": "python",
   "pygments_lexer": "ipython3",
   "version": "3.8.8"
  },
  "orig_nbformat": 4
 },
 "nbformat": 4,
 "nbformat_minor": 2
}
