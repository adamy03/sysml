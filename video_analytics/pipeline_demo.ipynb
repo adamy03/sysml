{
 "cells": [
  {
   "cell_type": "markdown",
   "metadata": {},
   "source": [
    "### **Outline**\n",
    "Example of how to use pipeline tools for running tests\n",
    "\n",
    "```\n",
    "model = Model('yolov5n') \n",
    "video = Video('path')\n",
    "cache = FrameQueue(maxlen=3)\n",
    "outputs = []\n",
    "while cache.has_frames():\n",
    "    video.add_to_cache(cache)  # adds certain frames to cache depending on FPS\n",
    "    \n",
    "    # GET FRAME TO PROCESS\n",
    "    frame = cache.get_frame()     # gets frame at index in cache, default is oldest\n",
    "\n",
    "    # SHOULD WE PROCESS FRAME? \n",
    "    # add funcs here for testing different ways of determining whether or not to process a frame\n",
    "    # ex: if not should_process.frame_diff(cache):\n",
    "        pass\n",
    "\n",
    "    # PREPROCESS THE FRAME\n",
    "    # no implementation as of yet\n",
    "    # ex: frame = preprocess.crop(frame)\n",
    "    # ex: frame = preprocess.resize(frame)\n",
    "\n",
    "    model.run(frame)  # runs model and fills in detections for any skipped frames\n",
    "```"
   ]
  },
  {
   "cell_type": "code",
   "execution_count": 4,
   "metadata": {},
   "outputs": [],
   "source": [
    "from new_pipeline import *\n",
    "from pipeline_utils import *\n",
    "import cv2"
   ]
  },
  {
   "cell_type": "code",
   "execution_count": null,
   "metadata": {},
   "outputs": [],
   "source": [
    "# instantiates cache\n",
    "\n",
    "\n",
    "vid.add_to_cache(frames_skip=5, frame_cache=cache)\n",
    "\n",
    "while vid.ret:\n",
    "    frame = cache.get_frame(0)\n",
    "\n",
    "\n",
    "    output_frame = frame_diff(frame) # We run frame differencing and release a frame\n",
    "    if frame_diff.constant_threshold(output_frame):  # we then analyze this frame using a frame_diff sub\n",
    "        output = model.run(frame, vid)\n",
    "        output_frame = drawboxes(frame, output)\n",
    "    \n",
    "\n",
    "\n",
    "    \n",
    "\n",
    "    write(video, annotated, destination)\n",
    "    \n",
    "    vid.add_to_cache(frames_skip=5, frame_cache=cache)\n",
    "    \n",
    "    \n",
    "\n"
   ]
  },
  {
   "cell_type": "markdown",
   "metadata": {},
   "source": [
    "while True:\n",
    "    video_object.add_to_cache(frames_skip=5, frame_cache=cache)\n",
    "    print(model.run(cache.get_frame(0), video_object))\n",
    "\n"
   ]
  }
 ],
 "metadata": {
  "kernelspec": {
   "display_name": ".venv",
   "language": "python",
   "name": "python3"
  },
  "language_info": {
   "codemirror_mode": {
    "name": "ipython",
    "version": 3
   },
   "file_extension": ".py",
   "mimetype": "text/x-python",
   "name": "python",
   "nbconvert_exporter": "python",
   "pygments_lexer": "ipython3",
   "version": "3.8.8"
  },
  "orig_nbformat": 4
 },
 "nbformat": 4,
 "nbformat_minor": 2
}
