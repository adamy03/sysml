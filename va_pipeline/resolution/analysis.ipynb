{
 "cells": [
  {
   "cell_type": "code",
   "execution_count": 4,
   "metadata": {},
   "outputs": [],
   "source": [
    "import pandas as pd\n",
    "import numpy as np\n",
    "import matplotlib.pyplot as plt\n",
    "import torch \n",
    "import os\n",
    "\n",
    "from torchmetrics.detection.mean_ap import MeanAveragePrecision\n"
   ]
  },
  {
   "cell_type": "code",
   "execution_count": 8,
   "metadata": {},
   "outputs": [
    {
     "ename": "TypeError",
     "evalue": "tuple indices must be integers or slices, not str",
     "output_type": "error",
     "traceback": [
      "\u001b[1;31m---------------------------------------------------------------------------\u001b[0m",
      "\u001b[1;31mTypeError\u001b[0m                                 Traceback (most recent call last)",
      "Cell \u001b[1;32mIn[8], line 12\u001b[0m\n\u001b[0;32m      8\u001b[0m med \u001b[39m=\u001b[39m pd\u001b[39m.\u001b[39mread_csv(\u001b[39mf\u001b[39m\u001b[39m'\u001b[39m\u001b[39m{\u001b[39;00mvid\u001b[39m}\u001b[39;00m\u001b[39m_960_540_25_inference.csv\u001b[39m\u001b[39m'\u001b[39m)\n\u001b[0;32m      9\u001b[0m low \u001b[39m=\u001b[39m pd\u001b[39m.\u001b[39mread_csv(\u001b[39mf\u001b[39m\u001b[39m'\u001b[39m\u001b[39m{\u001b[39;00mvid\u001b[39m}\u001b[39;00m\u001b[39m_640_360_25_inference.csv\u001b[39m\u001b[39m'\u001b[39m)\n\u001b[0;32m     11\u001b[0m med \u001b[39m=\u001b[39m {\n\u001b[1;32m---> 12\u001b[0m     \u001b[39m'\u001b[39m\u001b[39mboxes\u001b[39m\u001b[39m'\u001b[39m: torch\u001b[39m.\u001b[39mtensor([[\u001b[39mfloat\u001b[39m(row[\u001b[39m'\u001b[39m\u001b[39mxcenter\u001b[39m\u001b[39m'\u001b[39m]), \u001b[39mfloat\u001b[39m(row[\u001b[39m'\u001b[39m\u001b[39mycenter\u001b[39m\u001b[39m'\u001b[39m]), \u001b[39mfloat\u001b[39m(row[\u001b[39m'\u001b[39m\u001b[39mwidth\u001b[39m\u001b[39m'\u001b[39m]), \u001b[39mfloat\u001b[39m(row[\u001b[39m'\u001b[39m\u001b[39mheight\u001b[39m\u001b[39m'\u001b[39m])] \u001b[39mfor\u001b[39;00m row \u001b[39min\u001b[39;00m med\u001b[39m.\u001b[39miterrows()]),\n\u001b[0;32m     13\u001b[0m     \u001b[39m'\u001b[39m\u001b[39mscores\u001b[39m\u001b[39m'\u001b[39m: torch\u001b[39m.\u001b[39mtensor([[\u001b[39mfloat\u001b[39m(row[\u001b[39m'\u001b[39m\u001b[39mconfidence\u001b[39m\u001b[39m'\u001b[39m]) \u001b[39mfor\u001b[39;00m row \u001b[39min\u001b[39;00m med]]),\n\u001b[0;32m     14\u001b[0m     \u001b[39m'\u001b[39m\u001b[39mlabels\u001b[39m\u001b[39m'\u001b[39m: torch\u001b[39m.\u001b[39mtensor([[\u001b[39mfloat\u001b[39m(row[\u001b[39m'\u001b[39m\u001b[39mname\u001b[39m\u001b[39m'\u001b[39m]) \u001b[39mfor\u001b[39;00m row \u001b[39min\u001b[39;00m med]])\n\u001b[0;32m     15\u001b[0m     }\n\u001b[0;32m     17\u001b[0m low \u001b[39m=\u001b[39m {\n\u001b[0;32m     18\u001b[0m     \u001b[39m'\u001b[39m\u001b[39mboxes\u001b[39m\u001b[39m'\u001b[39m: torch\u001b[39m.\u001b[39mtensor([[\u001b[39mfloat\u001b[39m(row[\u001b[39m'\u001b[39m\u001b[39mxcenter\u001b[39m\u001b[39m'\u001b[39m]), \u001b[39mfloat\u001b[39m(row[\u001b[39m'\u001b[39m\u001b[39mycenter\u001b[39m\u001b[39m'\u001b[39m]), \u001b[39mfloat\u001b[39m(row[\u001b[39m'\u001b[39m\u001b[39mwidth\u001b[39m\u001b[39m'\u001b[39m]), \u001b[39mfloat\u001b[39m(row[\u001b[39m'\u001b[39m\u001b[39mheight\u001b[39m\u001b[39m'\u001b[39m])] \u001b[39mfor\u001b[39;00m row \u001b[39min\u001b[39;00m low\u001b[39m.\u001b[39miterrows()]),\n\u001b[0;32m     19\u001b[0m     \u001b[39m'\u001b[39m\u001b[39mscores\u001b[39m\u001b[39m'\u001b[39m: torch\u001b[39m.\u001b[39mtensor([[\u001b[39mfloat\u001b[39m(row[\u001b[39m'\u001b[39m\u001b[39mconfidence\u001b[39m\u001b[39m'\u001b[39m]) \u001b[39mfor\u001b[39;00m row \u001b[39min\u001b[39;00m low]]),\n\u001b[0;32m     20\u001b[0m     \u001b[39m'\u001b[39m\u001b[39mlabels\u001b[39m\u001b[39m'\u001b[39m: torch\u001b[39m.\u001b[39mtensor([[\u001b[39mfloat\u001b[39m(row[\u001b[39m'\u001b[39m\u001b[39mname\u001b[39m\u001b[39m'\u001b[39m]) \u001b[39mfor\u001b[39;00m row \u001b[39min\u001b[39;00m low]])\n\u001b[0;32m     21\u001b[0m     }\n\u001b[0;32m     23\u001b[0m gt \u001b[39m=\u001b[39m {\n\u001b[0;32m     24\u001b[0m     \u001b[39m'\u001b[39m\u001b[39mboxes\u001b[39m\u001b[39m'\u001b[39m: torch\u001b[39m.\u001b[39mtensor([[\u001b[39mfloat\u001b[39m(row[\u001b[39m'\u001b[39m\u001b[39mxcenter\u001b[39m\u001b[39m'\u001b[39m]), \u001b[39mfloat\u001b[39m(row[\u001b[39m'\u001b[39m\u001b[39mycenter\u001b[39m\u001b[39m'\u001b[39m]), \u001b[39mfloat\u001b[39m(row[\u001b[39m'\u001b[39m\u001b[39mwidth\u001b[39m\u001b[39m'\u001b[39m]), \u001b[39mfloat\u001b[39m(row[\u001b[39m'\u001b[39m\u001b[39mheight\u001b[39m\u001b[39m'\u001b[39m])] \u001b[39mfor\u001b[39;00m row \u001b[39min\u001b[39;00m gt\u001b[39m.\u001b[39miterows()]),\n\u001b[0;32m     25\u001b[0m     \u001b[39m'\u001b[39m\u001b[39mlabels\u001b[39m\u001b[39m'\u001b[39m: torch\u001b[39m.\u001b[39mtensor([[\u001b[39mfloat\u001b[39m(row[\u001b[39m'\u001b[39m\u001b[39mname\u001b[39m\u001b[39m'\u001b[39m]) \u001b[39mfor\u001b[39;00m row \u001b[39min\u001b[39;00m gt]])\n\u001b[0;32m     26\u001b[0m }\n",
      "Cell \u001b[1;32mIn[8], line 12\u001b[0m, in \u001b[0;36m<listcomp>\u001b[1;34m(.0)\u001b[0m\n\u001b[0;32m      8\u001b[0m med \u001b[39m=\u001b[39m pd\u001b[39m.\u001b[39mread_csv(\u001b[39mf\u001b[39m\u001b[39m'\u001b[39m\u001b[39m{\u001b[39;00mvid\u001b[39m}\u001b[39;00m\u001b[39m_960_540_25_inference.csv\u001b[39m\u001b[39m'\u001b[39m)\n\u001b[0;32m      9\u001b[0m low \u001b[39m=\u001b[39m pd\u001b[39m.\u001b[39mread_csv(\u001b[39mf\u001b[39m\u001b[39m'\u001b[39m\u001b[39m{\u001b[39;00mvid\u001b[39m}\u001b[39;00m\u001b[39m_640_360_25_inference.csv\u001b[39m\u001b[39m'\u001b[39m)\n\u001b[0;32m     11\u001b[0m med \u001b[39m=\u001b[39m {\n\u001b[1;32m---> 12\u001b[0m     \u001b[39m'\u001b[39m\u001b[39mboxes\u001b[39m\u001b[39m'\u001b[39m: torch\u001b[39m.\u001b[39mtensor([[\u001b[39mfloat\u001b[39m(row[\u001b[39m'\u001b[39;49m\u001b[39mxcenter\u001b[39;49m\u001b[39m'\u001b[39;49m]), \u001b[39mfloat\u001b[39m(row[\u001b[39m'\u001b[39m\u001b[39mycenter\u001b[39m\u001b[39m'\u001b[39m]), \u001b[39mfloat\u001b[39m(row[\u001b[39m'\u001b[39m\u001b[39mwidth\u001b[39m\u001b[39m'\u001b[39m]), \u001b[39mfloat\u001b[39m(row[\u001b[39m'\u001b[39m\u001b[39mheight\u001b[39m\u001b[39m'\u001b[39m])] \u001b[39mfor\u001b[39;00m row \u001b[39min\u001b[39;00m med\u001b[39m.\u001b[39miterrows()]),\n\u001b[0;32m     13\u001b[0m     \u001b[39m'\u001b[39m\u001b[39mscores\u001b[39m\u001b[39m'\u001b[39m: torch\u001b[39m.\u001b[39mtensor([[\u001b[39mfloat\u001b[39m(row[\u001b[39m'\u001b[39m\u001b[39mconfidence\u001b[39m\u001b[39m'\u001b[39m]) \u001b[39mfor\u001b[39;00m row \u001b[39min\u001b[39;00m med]]),\n\u001b[0;32m     14\u001b[0m     \u001b[39m'\u001b[39m\u001b[39mlabels\u001b[39m\u001b[39m'\u001b[39m: torch\u001b[39m.\u001b[39mtensor([[\u001b[39mfloat\u001b[39m(row[\u001b[39m'\u001b[39m\u001b[39mname\u001b[39m\u001b[39m'\u001b[39m]) \u001b[39mfor\u001b[39;00m row \u001b[39min\u001b[39;00m med]])\n\u001b[0;32m     15\u001b[0m     }\n\u001b[0;32m     17\u001b[0m low \u001b[39m=\u001b[39m {\n\u001b[0;32m     18\u001b[0m     \u001b[39m'\u001b[39m\u001b[39mboxes\u001b[39m\u001b[39m'\u001b[39m: torch\u001b[39m.\u001b[39mtensor([[\u001b[39mfloat\u001b[39m(row[\u001b[39m'\u001b[39m\u001b[39mxcenter\u001b[39m\u001b[39m'\u001b[39m]), \u001b[39mfloat\u001b[39m(row[\u001b[39m'\u001b[39m\u001b[39mycenter\u001b[39m\u001b[39m'\u001b[39m]), \u001b[39mfloat\u001b[39m(row[\u001b[39m'\u001b[39m\u001b[39mwidth\u001b[39m\u001b[39m'\u001b[39m]), \u001b[39mfloat\u001b[39m(row[\u001b[39m'\u001b[39m\u001b[39mheight\u001b[39m\u001b[39m'\u001b[39m])] \u001b[39mfor\u001b[39;00m row \u001b[39min\u001b[39;00m low\u001b[39m.\u001b[39miterrows()]),\n\u001b[0;32m     19\u001b[0m     \u001b[39m'\u001b[39m\u001b[39mscores\u001b[39m\u001b[39m'\u001b[39m: torch\u001b[39m.\u001b[39mtensor([[\u001b[39mfloat\u001b[39m(row[\u001b[39m'\u001b[39m\u001b[39mconfidence\u001b[39m\u001b[39m'\u001b[39m]) \u001b[39mfor\u001b[39;00m row \u001b[39min\u001b[39;00m low]]),\n\u001b[0;32m     20\u001b[0m     \u001b[39m'\u001b[39m\u001b[39mlabels\u001b[39m\u001b[39m'\u001b[39m: torch\u001b[39m.\u001b[39mtensor([[\u001b[39mfloat\u001b[39m(row[\u001b[39m'\u001b[39m\u001b[39mname\u001b[39m\u001b[39m'\u001b[39m]) \u001b[39mfor\u001b[39;00m row \u001b[39min\u001b[39;00m low]])\n\u001b[0;32m     21\u001b[0m     }\n\u001b[0;32m     23\u001b[0m gt \u001b[39m=\u001b[39m {\n\u001b[0;32m     24\u001b[0m     \u001b[39m'\u001b[39m\u001b[39mboxes\u001b[39m\u001b[39m'\u001b[39m: torch\u001b[39m.\u001b[39mtensor([[\u001b[39mfloat\u001b[39m(row[\u001b[39m'\u001b[39m\u001b[39mxcenter\u001b[39m\u001b[39m'\u001b[39m]), \u001b[39mfloat\u001b[39m(row[\u001b[39m'\u001b[39m\u001b[39mycenter\u001b[39m\u001b[39m'\u001b[39m]), \u001b[39mfloat\u001b[39m(row[\u001b[39m'\u001b[39m\u001b[39mwidth\u001b[39m\u001b[39m'\u001b[39m]), \u001b[39mfloat\u001b[39m(row[\u001b[39m'\u001b[39m\u001b[39mheight\u001b[39m\u001b[39m'\u001b[39m])] \u001b[39mfor\u001b[39;00m row \u001b[39min\u001b[39;00m gt\u001b[39m.\u001b[39miterows()]),\n\u001b[0;32m     25\u001b[0m     \u001b[39m'\u001b[39m\u001b[39mlabels\u001b[39m\u001b[39m'\u001b[39m: torch\u001b[39m.\u001b[39mtensor([[\u001b[39mfloat\u001b[39m(row[\u001b[39m'\u001b[39m\u001b[39mname\u001b[39m\u001b[39m'\u001b[39m]) \u001b[39mfor\u001b[39;00m row \u001b[39min\u001b[39;00m gt]])\n\u001b[0;32m     26\u001b[0m }\n",
      "\u001b[1;31mTypeError\u001b[0m: tuple indices must be integers or slices, not str"
     ]
    }
   ],
   "source": [
    "dir = './'\n",
    "vid_names = [vid.split('.')[0] for vid in os.listdir('../../samples/testing/videos/')]\n",
    "\n",
    "mAP_results = pd.DataFrame(columns=['video', 'res', 'mAP'])\n",
    "\n",
    "for vid in vid_names:\n",
    "    gt = pd.read_csv(f'{vid}_1280_720_25_inference.csv')\n",
    "    med = pd.read_csv(f'{vid}_960_540_25_inference.csv')\n",
    "    low = pd.read_csv(f'{vid}_640_360_25_inference.csv')\n",
    "    \n",
    "    med = {\n",
    "        'boxes': torch.tensor([[float(row['xcenter']), float(row['ycenter']), float(row['width']), float(row['height'])] for row in med.iterrows()]),\n",
    "        'scores': torch.tensor([[float(row['confidence']) for row in med]]),\n",
    "        'labels': torch.tensor([[float(row['name']) for row in med]])\n",
    "        }\n",
    "    \n",
    "    low = {\n",
    "        'boxes': torch.tensor([[float(row['xcenter']), float(row['ycenter']), float(row['width']), float(row['height'])] for row in low.iterrows()]),\n",
    "        'scores': torch.tensor([[float(row['confidence']) for row in low]]),\n",
    "        'labels': torch.tensor([[float(row['name']) for row in low]])\n",
    "        }\n",
    "\n",
    "    gt = {\n",
    "        'boxes': torch.tensor([[float(row['xcenter']), float(row['ycenter']), float(row['width']), float(row['height'])] for row in gt.iterows()]),\n",
    "        'labels': torch.tensor([[float(row['name']) for row in gt]])\n",
    "    }\n",
    "    \n",
    "    mAP = MeanAveragePrecision('xywh', iou_type='bbox')\n",
    "    mAP.update(med, gt)\n",
    "    result_med = mAP.compute()\n",
    "    mAP.update(low, gt)\n",
    "    result_low = mAP.compute()\n",
    "    \n",
    "    mAP_results.loc[len(mAP_results.index)] = [vid, 540, result_med['map'].item()]\n",
    "    mAP_results.loc[len(mAP_results.index)] = [vid, 360, result_low['map'].item()]\n",
    "    "
   ]
  },
  {
   "cell_type": "code",
   "execution_count": null,
   "metadata": {},
   "outputs": [],
   "source": [
    "\n"
   ]
  }
 ],
 "metadata": {
  "kernelspec": {
   "display_name": ".venv",
   "language": "python",
   "name": "python3"
  },
  "language_info": {
   "codemirror_mode": {
    "name": "ipython",
    "version": 3
   },
   "file_extension": ".py",
   "mimetype": "text/x-python",
   "name": "python",
   "nbconvert_exporter": "python",
   "pygments_lexer": "ipython3",
   "version": "3.9.13"
  },
  "orig_nbformat": 4
 },
 "nbformat": 4,
 "nbformat_minor": 2
}
