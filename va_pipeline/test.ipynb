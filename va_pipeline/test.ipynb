{
 "cells": [
  {
   "cell_type": "code",
   "execution_count": 20,
   "metadata": {},
   "outputs": [],
   "source": [
    "import torch \n",
    "import pandas as pd\n"
   ]
  },
  {
   "cell_type": "code",
   "execution_count": 21,
   "metadata": {},
   "outputs": [
    {
     "name": "stderr",
     "output_type": "stream",
     "text": [
      "Using cache found in C:\\Users\\adamf/.cache\\torch\\hub\\ultralytics_yolov5_master\n",
      "YOLOv5  2023-6-26 Python-3.9.13 torch-2.0.1+cpu CPU\n",
      "\n",
      "Fusing layers... \n",
      "YOLOv5n summary: 213 layers, 1867405 parameters, 0 gradients\n",
      "Adding AutoShape... \n"
     ]
    }
   ],
   "source": [
    "model = torch.hub.load('ultralytics/yolov5', 'yolov5n')"
   ]
  },
  {
   "cell_type": "code",
   "execution_count": 22,
   "metadata": {},
   "outputs": [
    {
     "data": {
      "text/html": [
       "<div>\n",
       "<style scoped>\n",
       "    .dataframe tbody tr th:only-of-type {\n",
       "        vertical-align: middle;\n",
       "    }\n",
       "\n",
       "    .dataframe tbody tr th {\n",
       "        vertical-align: top;\n",
       "    }\n",
       "\n",
       "    .dataframe thead th {\n",
       "        text-align: right;\n",
       "    }\n",
       "</style>\n",
       "<table border=\"1\" class=\"dataframe\">\n",
       "  <thead>\n",
       "    <tr style=\"text-align: right;\">\n",
       "      <th></th>\n",
       "      <th>xcenter</th>\n",
       "      <th>ycenter</th>\n",
       "      <th>width</th>\n",
       "      <th>height</th>\n",
       "      <th>confidence</th>\n",
       "      <th>class</th>\n",
       "      <th>name</th>\n",
       "    </tr>\n",
       "  </thead>\n",
       "  <tbody>\n",
       "    <tr>\n",
       "      <th>0</th>\n",
       "      <td>362.652649</td>\n",
       "      <td>195.485535</td>\n",
       "      <td>233.545319</td>\n",
       "      <td>301.899780</td>\n",
       "      <td>0.902569</td>\n",
       "      <td>20</td>\n",
       "      <td>elephant</td>\n",
       "    </tr>\n",
       "    <tr>\n",
       "      <th>1</th>\n",
       "      <td>606.638062</td>\n",
       "      <td>209.083450</td>\n",
       "      <td>24.353577</td>\n",
       "      <td>65.566284</td>\n",
       "      <td>0.816611</td>\n",
       "      <td>0</td>\n",
       "      <td>person</td>\n",
       "    </tr>\n",
       "    <tr>\n",
       "      <th>2</th>\n",
       "      <td>521.003296</td>\n",
       "      <td>209.833786</td>\n",
       "      <td>32.118530</td>\n",
       "      <td>74.397400</td>\n",
       "      <td>0.773251</td>\n",
       "      <td>0</td>\n",
       "      <td>person</td>\n",
       "    </tr>\n",
       "    <tr>\n",
       "      <th>3</th>\n",
       "      <td>567.023438</td>\n",
       "      <td>203.088272</td>\n",
       "      <td>23.988220</td>\n",
       "      <td>61.211578</td>\n",
       "      <td>0.720435</td>\n",
       "      <td>0</td>\n",
       "      <td>person</td>\n",
       "    </tr>\n",
       "    <tr>\n",
       "      <th>4</th>\n",
       "      <td>499.298523</td>\n",
       "      <td>211.103394</td>\n",
       "      <td>21.122223</td>\n",
       "      <td>65.748398</td>\n",
       "      <td>0.676916</td>\n",
       "      <td>0</td>\n",
       "      <td>person</td>\n",
       "    </tr>\n",
       "    <tr>\n",
       "      <th>5</th>\n",
       "      <td>154.695068</td>\n",
       "      <td>232.356628</td>\n",
       "      <td>72.291313</td>\n",
       "      <td>200.792099</td>\n",
       "      <td>0.625204</td>\n",
       "      <td>0</td>\n",
       "      <td>person</td>\n",
       "    </tr>\n",
       "    <tr>\n",
       "      <th>6</th>\n",
       "      <td>219.084778</td>\n",
       "      <td>220.242279</td>\n",
       "      <td>83.660156</td>\n",
       "      <td>58.152786</td>\n",
       "      <td>0.595411</td>\n",
       "      <td>1</td>\n",
       "      <td>bicycle</td>\n",
       "    </tr>\n",
       "    <tr>\n",
       "      <th>7</th>\n",
       "      <td>204.630737</td>\n",
       "      <td>376.665222</td>\n",
       "      <td>74.753708</td>\n",
       "      <td>51.888031</td>\n",
       "      <td>0.395285</td>\n",
       "      <td>46</td>\n",
       "      <td>banana</td>\n",
       "    </tr>\n",
       "    <tr>\n",
       "      <th>8</th>\n",
       "      <td>107.708649</td>\n",
       "      <td>322.426666</td>\n",
       "      <td>144.284485</td>\n",
       "      <td>163.863358</td>\n",
       "      <td>0.284356</td>\n",
       "      <td>0</td>\n",
       "      <td>person</td>\n",
       "    </tr>\n",
       "  </tbody>\n",
       "</table>\n",
       "</div>"
      ],
      "text/plain": [
       "      xcenter     ycenter       width      height  confidence  class      name\n",
       "0  362.652649  195.485535  233.545319  301.899780    0.902569     20  elephant\n",
       "1  606.638062  209.083450   24.353577   65.566284    0.816611      0    person\n",
       "2  521.003296  209.833786   32.118530   74.397400    0.773251      0    person\n",
       "3  567.023438  203.088272   23.988220   61.211578    0.720435      0    person\n",
       "4  499.298523  211.103394   21.122223   65.748398    0.676916      0    person\n",
       "5  154.695068  232.356628   72.291313  200.792099    0.625204      0    person\n",
       "6  219.084778  220.242279   83.660156   58.152786    0.595411      1   bicycle\n",
       "7  204.630737  376.665222   74.753708   51.888031    0.395285     46    banana\n",
       "8  107.708649  322.426666  144.284485  163.863358    0.284356      0    person"
      ]
     },
     "execution_count": 22,
     "metadata": {},
     "output_type": "execute_result"
    }
   ],
   "source": [
    "out = model('../samples/elephant.jpg')\n",
    "out.pandas().xywh[0]"
   ]
  },
  {
   "cell_type": "code",
   "execution_count": 23,
   "metadata": {},
   "outputs": [],
   "source": [
    "with open('temp.txt', 'w') as file:\n",
    "    file.write('hi\\n' + \n",
    "               f'{1101}')"
   ]
  },
  {
   "cell_type": "code",
   "execution_count": 1,
   "metadata": {},
   "outputs": [],
   "source": [
    "import paramiko"
   ]
  },
  {
   "cell_type": "code",
   "execution_count": 10,
   "metadata": {},
   "outputs": [
    {
     "name": "stdout",
     "output_type": "stream",
     "text": [
      "Bookshelf\n",
      "Desktop\n",
      "Documents\n",
      "Downloads\n",
      "german.mp4\n",
      "Music\n",
      "opencv\n",
      "opencv_contrib\n",
      "opencv_contrib.zip\n",
      "opencv.zip\n",
      "Pictures\n",
      "Public\n",
      "python.py\n",
      "requirements.txt\n",
      "scripts\n",
      "sysml\n",
      "Templates\n",
      "test.jpg\n",
      "Videos\n",
      "yolov5l.pt\n",
      "yolov5n.pt\n",
      "yolov5-on-rpi4-2020\n",
      "yolov5s.pt\n",
      "\n"
     ]
    }
   ],
   "source": [
    "remote = '172.28.81.58'\n",
    "user = 'pi'\n",
    "ssh = paramiko.SSHClient()\n",
    "ssh.set_missing_host_key_policy(paramiko.AutoAddPolicy())\n",
    "ssh.connect(remote, username=user, password='')\n",
    "stdin, stdout, stderr = ssh.exec_command('ls')\n",
    "output = stdout.read().decode('utf-8')\n",
    "print(output)\n",
    "ssh.close()\n"
   ]
  },
  {
   "cell_type": "code",
   "execution_count": null,
   "metadata": {},
   "outputs": [],
   "source": []
  }
 ],
 "metadata": {
  "kernelspec": {
   "display_name": ".venv",
   "language": "python",
   "name": "python3"
  },
  "language_info": {
   "codemirror_mode": {
    "name": "ipython",
    "version": 3
   },
   "file_extension": ".py",
   "mimetype": "text/x-python",
   "name": "python",
   "nbconvert_exporter": "python",
   "pygments_lexer": "ipython3",
   "version": "3.9.13"
  },
  "orig_nbformat": 4
 },
 "nbformat": 4,
 "nbformat_minor": 2
}
