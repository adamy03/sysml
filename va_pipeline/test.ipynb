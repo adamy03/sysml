{
 "cells": [
  {
   "cell_type": "code",
   "execution_count": 9,
   "metadata": {},
   "outputs": [],
   "source": [
    "import torch \n",
    "import cv2\n",
    "import numpy as np\n",
    "import pandas as pd\n",
    "import matplotlib.pyplot as plt\n",
    "\n",
    "from process import *\n",
    "from drawbox import *\n",
    "from framedif import *\n",
    "\n",
    "import os\n",
    "import sys\n",
    "sys.path.append('../va_pipeline/')\n",
    "\n",
    "%matplotlib inline\n"
   ]
  },
  {
   "cell_type": "code",
   "execution_count": 27,
   "metadata": {},
   "outputs": [
    {
     "name": "stderr",
     "output_type": "stream",
     "text": [
      "Using cache found in C:\\Users\\adamf/.cache\\torch\\hub\\ultralytics_yolov5_master\n",
      "YOLOv5  2023-6-26 Python-3.9.13 torch-2.0.1+cpu CPU\n",
      "\n",
      "Fusing layers... \n",
      "YOLOv5n summary: 213 layers, 1867405 parameters, 0 gradients\n",
      "Adding AutoShape... \n"
     ]
    }
   ],
   "source": [
    "X_RES = 1920\n",
    "Y_RES = 1080\n",
    "cap = cv2.VideoCapture('../samples/medium.mp4')\n",
    "out = cv2.VideoWriter(\n",
    "    './test.mp4', \n",
    "    cv2.VideoWriter_fourcc(*'mp4v'), \n",
    "    30,\n",
    "    (X_RES, Y_RES)\n",
    "    )\n",
    "\n",
    "model = torch.hub.load('ultralytics/yolov5', 'yolov5n')\n",
    "\n",
    "while cap.isOpened():\n",
    "    ret, frame = cap.read()\n",
    "\n",
    "    if not ret:  # no more frames to read\n",
    "        break\n",
    "\n",
    "    edge = get_frame_feature(frame, 5, 1, 100, 200)\n",
    "    x,y,w,h = cv2.boundingRect(edge)\n",
    "\n",
    "    cropped = frame[y:(y + h), x:(x + w)]\n",
    "    cv2.rectangle(frame, (x,y), (x+w,y+h), (0,255,0), 2)\n",
    "\n",
    "    output = model(cropped).pandas().xywh[0]\n",
    "    output['xcenter'] += x\n",
    "    output['ycenter'] += y\n",
    "\n",
    "    for _, row in output.iterrows():\n",
    "        x_center, y_center, width, height = row['xcenter'], row['ycenter'], row['width'], row['height']\n",
    "\n",
    "        # Get top left corner coordinates\n",
    "        topLeft = (int(x_center - width/2), int(y_center - height/2))\n",
    "        bottomRight = (int(x_center + width/2), int(y_center + height/2))\n",
    "\n",
    "        # Draw bounding box\n",
    "        cv2.rectangle(frame, topLeft, bottomRight, (255, 0, 255), 2)\n",
    "\n",
    "    out.write(frame)\n",
    "\n",
    "cap.release()\n",
    "out.release()"
   ]
  },
  {
   "cell_type": "code",
   "execution_count": 28,
   "metadata": {},
   "outputs": [
    {
     "name": "stderr",
     "output_type": "stream",
     "text": [
      "Using cache found in C:\\Users\\adamf/.cache\\torch\\hub\\ultralytics_yolov5_master\n",
      "YOLOv5  2023-6-26 Python-3.9.13 torch-2.0.1+cpu CPU\n",
      "\n",
      "Fusing layers... \n",
      "YOLOv5n summary: 213 layers, 1867405 parameters, 0 gradients\n",
      "Adding AutoShape... \n"
     ]
    }
   ],
   "source": [
    "X_RES = 1920\n",
    "Y_RES = 1080\n",
    "cap = cv2.VideoCapture('../samples/medium.mp4')\n",
    "out = cv2.VideoWriter(\n",
    "    './test_ground.mp4', \n",
    "    cv2.VideoWriter_fourcc(*'mp4v'), \n",
    "    30,\n",
    "    (X_RES, Y_RES)\n",
    "    )\n",
    "\n",
    "model = torch.hub.load('ultralytics/yolov5', 'yolov5n')\n",
    "\n",
    "while cap.isOpened():\n",
    "    ret, frame = cap.read()\n",
    "\n",
    "    if not ret:  # no more frames to read\n",
    "        break\n",
    "    \n",
    "    output = model(frame).pandas().xywh[0]\n",
    "    \n",
    "    for _, row in output.iterrows():\n",
    "        x_center, y_center, width, height = row['xcenter'], row['ycenter'], row['width'], row['height']\n",
    "\n",
    "        # Get top left corner coordinates\n",
    "        topLeft = (int(x_center - width/2), int(y_center - height/2))\n",
    "        bottomRight = (int(x_center + width/2), int(y_center + height/2))\n",
    "\n",
    "        # Draw bounding box\n",
    "        cv2.rectangle(frame, topLeft, bottomRight, (255, 0, 255), 2)\n",
    "\n",
    "    out.write(frame)\n",
    "    \n",
    "    \n",
    "cap.release()\n",
    "out.release()"
   ]
  },
  {
   "cell_type": "code",
   "execution_count": null,
   "metadata": {},
   "outputs": [],
   "source": []
  }
 ],
 "metadata": {
  "kernelspec": {
   "display_name": ".venv",
   "language": "python",
   "name": "python3"
  },
  "language_info": {
   "codemirror_mode": {
    "name": "ipython",
    "version": 3
   },
   "file_extension": ".py",
   "mimetype": "text/x-python",
   "name": "python",
   "nbconvert_exporter": "python",
   "pygments_lexer": "ipython3",
   "version": "3.9.13"
  },
  "orig_nbformat": 4
 },
 "nbformat": 4,
 "nbformat_minor": 2
}
