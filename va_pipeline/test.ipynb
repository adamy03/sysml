{
 "cells": [
  {
   "cell_type": "code",
   "execution_count": 1,
   "metadata": {},
   "outputs": [],
   "source": [
    "import torch \n",
    "import cv2\n",
    "import numpy as np\n",
    "import pandas as pd\n",
    "import matplotlib.pyplot as plt\n",
    "\n",
    "from process import *\n",
    "from drawbox import *\n",
    "\n",
    "import os\n",
    "import sys\n",
    "sys.path.append('../va_pipeline/')"
   ]
  },
  {
   "cell_type": "code",
   "execution_count": 2,
   "metadata": {},
   "outputs": [],
   "source": [
    "from calculate_accuracy import *"
   ]
  },
  {
   "cell_type": "code",
   "execution_count": null,
   "metadata": {},
   "outputs": [],
   "source": [
    "# Change to name and path of files\n",
    "res_width = 1280\n",
    "res_height = 720\n",
    "model = 'yolov5n'\n",
    "source = 'sparse'\n",
    "framerate = 25\n",
    "frame_cap = 250\n",
    "\n",
    "# Get ground truth list\n",
    "gt_path = f'~/sysml/testing/test_results/config_testing/{source}_yolov5l_ground_truth.csv'\n",
    "#gt = get_ground_truth_list(1920, 1080, gt_path, frame_cap)\n",
    "\n",
    "gt = get_ground_truth_list(1920, 1080, '~/sysml/testing/test_results/mAP_experiments/0.4_conf/sparse_yolov5l_0.4conf_ground_truth.csv',\n",
    "                            5)\n",
    "#print(gt)\n",
    "\n",
    "# Get preds list\n",
    "pred_dir = f'~/sysml/testing/test_results/config_testing/{source}/'\n",
    "pred_name = f'{source}_{model}_{res_width}_{res_height}_{framerate}fps'\n",
    "pred_path = pred_dir + pred_name + '_inference.csv'\n",
    "#preds = get_predictions_list(res_width, res_height, pred_path)\n",
    "\n",
    "preds = get_predictions_list(1280, 720, '~/sysml/testing/test_results/mAP_experiments/0.4_conf/sparse_yolov5n_640_360_0.4conf.csv',\n",
    "                                5)\n",
    "#print(preds)\n",
    "\n",
    "\n",
    "# Calculate mAP scores\n",
    "mAP = calculate_accuracy(gt, preds)\n",
    "print(\"mAP: \", res_width, \" \", mAP)\n"
   ]
  },
  {
   "cell_type": "code",
   "execution_count": 4,
   "metadata": {},
   "outputs": [],
   "source": [
    "df=pd.read_csv('~/sysml/testing/test_results/mAP_experiments/0.4_conf/sparse_yolov5l_0.4conf_ground_truth.csv')"
   ]
  },
  {
   "cell_type": "code",
   "execution_count": 5,
   "metadata": {},
   "outputs": [],
   "source": [
    "f = df[df['frame']==1]"
   ]
  },
  {
   "cell_type": "code",
   "execution_count": 6,
   "metadata": {},
   "outputs": [
    {
     "data": {
      "text/html": [
       "<div>\n",
       "<style scoped>\n",
       "    .dataframe tbody tr th:only-of-type {\n",
       "        vertical-align: middle;\n",
       "    }\n",
       "\n",
       "    .dataframe tbody tr th {\n",
       "        vertical-align: top;\n",
       "    }\n",
       "\n",
       "    .dataframe thead th {\n",
       "        text-align: right;\n",
       "    }\n",
       "</style>\n",
       "<table border=\"1\" class=\"dataframe\">\n",
       "  <thead>\n",
       "    <tr style=\"text-align: right;\">\n",
       "      <th></th>\n",
       "      <th>Unnamed: 0</th>\n",
       "      <th>xcenter</th>\n",
       "      <th>ycenter</th>\n",
       "      <th>width</th>\n",
       "      <th>height</th>\n",
       "      <th>confidence</th>\n",
       "      <th>class</th>\n",
       "      <th>name</th>\n",
       "      <th>frame</th>\n",
       "    </tr>\n",
       "  </thead>\n",
       "  <tbody>\n",
       "  </tbody>\n",
       "</table>\n",
       "</div>"
      ],
      "text/plain": [
       "Empty DataFrame\n",
       "Columns: [Unnamed: 0, xcenter, ycenter, width, height, confidence, class, name, frame]\n",
       "Index: []"
      ]
     },
     "execution_count": 6,
     "metadata": {},
     "output_type": "execute_result"
    }
   ],
   "source": [
    "f"
   ]
  },
  {
   "cell_type": "code",
   "execution_count": 7,
   "metadata": {},
   "outputs": [],
   "source": [
    "f = f.sort_values(by=['class', 'xcenter'], ascending=True)\n",
    "\n",
    "# Create FloatTensor containing boxes\n",
    "bbox_cols = f[['xcenter', 'ycenter', 'width', 'height']]\n",
    "boxes = torch.tensor(bbox_cols.values)\n"
   ]
  },
  {
   "cell_type": "code",
   "execution_count": null,
   "metadata": {},
   "outputs": [],
   "source": []
  }
 ],
 "metadata": {
  "kernelspec": {
   "display_name": ".venv",
   "language": "python",
   "name": "python3"
  },
  "language_info": {
   "codemirror_mode": {
    "name": "ipython",
    "version": 3
   },
   "file_extension": ".py",
   "mimetype": "text/x-python",
   "name": "python",
   "nbconvert_exporter": "python",
   "pygments_lexer": "ipython3",
   "version": "3.8.8"
  },
  "orig_nbformat": 4
 },
 "nbformat": 4,
 "nbformat_minor": 2
}
