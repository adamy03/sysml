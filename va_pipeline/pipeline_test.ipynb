{
 "cells": [
  {
   "cell_type": "code",
   "execution_count": 57,
   "metadata": {},
   "outputs": [],
   "source": [
    "import cv2\n",
    "import numpy as np\n",
    "import pandas as pd\n",
    "import matplotlib.pyplot as plt\n",
    "%matplotlib inline\n",
    "\n",
    "\n",
    "from process import *\n",
    "import mod"
   ]
  },
  {
   "cell_type": "code",
   "execution_count": 89,
   "metadata": {},
   "outputs": [
    {
     "name": "stderr",
     "output_type": "stream",
     "text": [
      "Using cache found in C:\\Users\\adamf/.cache\\torch\\hub\\ultralytics_yolov5_master\n",
      "YOLOv5  2023-6-26 Python-3.9.13 torch-2.0.1+cpu CPU\n",
      "\n",
      "Fusing layers... \n",
      "YOLOv5n summary: 213 layers, 1867405 parameters, 0 gradients\n",
      "Adding AutoShape... \n",
      "Using cache found in C:\\Users\\adamf/.cache\\torch\\hub\\ultralytics_yolov5_master\n",
      "YOLOv5  2023-6-26 Python-3.9.13 torch-2.0.1+cpu CPU\n",
      "\n"
     ]
    },
    {
     "name": "stdout",
     "output_type": "stream",
     "text": [
      "save failed\n",
      "frames: 250\n",
      "runtime (inference): 13.30772590637207\n",
      "average time per frame: 0.05323090362548828\n",
      "confidence: 0.6\n"
     ]
    },
    {
     "name": "stderr",
     "output_type": "stream",
     "text": [
      "Fusing layers... \n",
      "YOLOv5n summary: 213 layers, 1867405 parameters, 0 gradients\n",
      "Adding AutoShape... \n",
      "Using cache found in C:\\Users\\adamf/.cache\\torch\\hub\\ultralytics_yolov5_master\n",
      "YOLOv5  2023-6-26 Python-3.9.13 torch-2.0.1+cpu CPU\n",
      "\n",
      "Fusing layers... \n"
     ]
    },
    {
     "name": "stdout",
     "output_type": "stream",
     "text": [
      "save failed\n",
      "frames: 250\n",
      "runtime (inference): 12.88828182220459\n",
      "average time per frame: 0.05155312728881836\n",
      "confidence: 0.6\n"
     ]
    },
    {
     "name": "stderr",
     "output_type": "stream",
     "text": [
      "YOLOv5n summary: 213 layers, 1867405 parameters, 0 gradients\n",
      "Adding AutoShape... \n"
     ]
    },
    {
     "name": "stdout",
     "output_type": "stream",
     "text": [
      "save failed\n",
      "frames: 250\n",
      "runtime (inference): 12.927541732788086\n",
      "average time per frame: 0.051710166931152345\n",
      "confidence: 0.6\n"
     ]
    },
    {
     "name": "stderr",
     "output_type": "stream",
     "text": [
      "Using cache found in C:\\Users\\adamf/.cache\\torch\\hub\\ultralytics_yolov5_master\n",
      "YOLOv5  2023-6-26 Python-3.9.13 torch-2.0.1+cpu CPU\n",
      "\n",
      "Fusing layers... \n",
      "YOLOv5n summary: 213 layers, 1867405 parameters, 0 gradients\n",
      "Adding AutoShape... \n",
      "Using cache found in C:\\Users\\adamf/.cache\\torch\\hub\\ultralytics_yolov5_master\n",
      "YOLOv5  2023-6-26 Python-3.9.13 torch-2.0.1+cpu CPU\n",
      "\n",
      "Fusing layers... \n"
     ]
    },
    {
     "name": "stdout",
     "output_type": "stream",
     "text": [
      "save failed\n",
      "frames: 250\n",
      "runtime (inference): 13.101629734039307\n",
      "average time per frame: 0.05240651893615723\n",
      "confidence: 0.6\n"
     ]
    },
    {
     "name": "stderr",
     "output_type": "stream",
     "text": [
      "YOLOv5n summary: 213 layers, 1867405 parameters, 0 gradients\n",
      "Adding AutoShape... \n",
      "Using cache found in C:\\Users\\adamf/.cache\\torch\\hub\\ultralytics_yolov5_master\n",
      "YOLOv5  2023-6-26 Python-3.9.13 torch-2.0.1+cpu CPU\n",
      "\n"
     ]
    },
    {
     "name": "stdout",
     "output_type": "stream",
     "text": [
      "save failed\n",
      "frames: 250\n",
      "runtime (inference): 7.60878586769104\n",
      "average time per frame: 0.03043514347076416\n",
      "confidence: 0.6\n"
     ]
    },
    {
     "name": "stderr",
     "output_type": "stream",
     "text": [
      "Fusing layers... \n",
      "YOLOv5n summary: 213 layers, 1867405 parameters, 0 gradients\n",
      "Adding AutoShape... \n"
     ]
    },
    {
     "name": "stdout",
     "output_type": "stream",
     "text": [
      "save failed\n",
      "frames: 250\n",
      "runtime (inference): 8.163791418075562\n",
      "average time per frame: 0.03265516567230225\n",
      "confidence: 0.6\n"
     ]
    },
    {
     "name": "stderr",
     "output_type": "stream",
     "text": [
      "Using cache found in C:\\Users\\adamf/.cache\\torch\\hub\\ultralytics_yolov5_master\n",
      "YOLOv5  2023-6-26 Python-3.9.13 torch-2.0.1+cpu CPU\n",
      "\n",
      "Fusing layers... \n",
      "YOLOv5n summary: 213 layers, 1867405 parameters, 0 gradients\n",
      "Adding AutoShape... \n",
      "Using cache found in C:\\Users\\adamf/.cache\\torch\\hub\\ultralytics_yolov5_master\n",
      "YOLOv5  2023-6-26 Python-3.9.13 torch-2.0.1+cpu CPU\n",
      "\n"
     ]
    },
    {
     "name": "stdout",
     "output_type": "stream",
     "text": [
      "save failed\n",
      "frames: 250\n",
      "runtime (inference): 7.774673700332642\n",
      "average time per frame: 0.031098694801330568\n",
      "confidence: 0.6\n"
     ]
    },
    {
     "name": "stderr",
     "output_type": "stream",
     "text": [
      "Fusing layers... \n",
      "YOLOv5n summary: 213 layers, 1867405 parameters, 0 gradients\n",
      "Adding AutoShape... \n",
      "Using cache found in C:\\Users\\adamf/.cache\\torch\\hub\\ultralytics_yolov5_master\n",
      "YOLOv5  2023-6-26 Python-3.9.13 torch-2.0.1+cpu CPU\n",
      "\n",
      "Fusing layers... \n"
     ]
    },
    {
     "name": "stdout",
     "output_type": "stream",
     "text": [
      "save failed\n",
      "frames: 250\n",
      "runtime (inference): 8.357574939727783\n",
      "average time per frame: 0.03343029975891113\n",
      "confidence: 0.6\n"
     ]
    },
    {
     "name": "stderr",
     "output_type": "stream",
     "text": [
      "YOLOv5n summary: 213 layers, 1867405 parameters, 0 gradients\n",
      "Adding AutoShape... \n"
     ]
    },
    {
     "name": "stdout",
     "output_type": "stream",
     "text": [
      "save failed\n",
      "frames: 250\n",
      "runtime (inference): 4.277980089187622\n",
      "average time per frame: 0.01711192035675049\n",
      "confidence: 0.6\n"
     ]
    },
    {
     "name": "stderr",
     "output_type": "stream",
     "text": [
      "Using cache found in C:\\Users\\adamf/.cache\\torch\\hub\\ultralytics_yolov5_master\n",
      "YOLOv5  2023-6-26 Python-3.9.13 torch-2.0.1+cpu CPU\n",
      "\n",
      "Fusing layers... \n",
      "YOLOv5n summary: 213 layers, 1867405 parameters, 0 gradients\n",
      "Adding AutoShape... \n",
      "Using cache found in C:\\Users\\adamf/.cache\\torch\\hub\\ultralytics_yolov5_master\n",
      "YOLOv5  2023-6-26 Python-3.9.13 torch-2.0.1+cpu CPU\n",
      "\n",
      "Fusing layers... \n"
     ]
    },
    {
     "name": "stdout",
     "output_type": "stream",
     "text": [
      "save failed\n",
      "frames: 250\n",
      "runtime (inference): 4.15090274810791\n",
      "average time per frame: 0.01660361099243164\n",
      "confidence: 0.6\n"
     ]
    },
    {
     "name": "stderr",
     "output_type": "stream",
     "text": [
      "YOLOv5n summary: 213 layers, 1867405 parameters, 0 gradients\n",
      "Adding AutoShape... \n",
      "Using cache found in C:\\Users\\adamf/.cache\\torch\\hub\\ultralytics_yolov5_master\n",
      "YOLOv5  2023-6-26 Python-3.9.13 torch-2.0.1+cpu CPU\n",
      "\n"
     ]
    },
    {
     "name": "stdout",
     "output_type": "stream",
     "text": [
      "save failed\n",
      "frames: 250\n",
      "runtime (inference): 4.24094820022583\n",
      "average time per frame: 0.01696379280090332\n",
      "confidence: 0.6\n"
     ]
    },
    {
     "name": "stderr",
     "output_type": "stream",
     "text": [
      "Fusing layers... \n",
      "YOLOv5n summary: 213 layers, 1867405 parameters, 0 gradients\n",
      "Adding AutoShape... \n"
     ]
    },
    {
     "name": "stdout",
     "output_type": "stream",
     "text": [
      "save failed\n",
      "frames: 250\n",
      "runtime (inference): 5.1801581382751465\n",
      "average time per frame: 0.020720632553100585\n",
      "confidence: 0.6\n"
     ]
    }
   ],
   "source": [
    "outputs = []\n",
    "for res in [(1280, 720), (960, 540), (640, 360)]:\n",
    "    for video in ['large_slow', 'large_fast', 'small_slow', 'small_fast']:\n",
    "        output = mod.run(\n",
    "            yolov5_model='yolov5n',\n",
    "            img_width=res[0],\n",
    "            img_height=res[1],\n",
    "            fps=5,\n",
    "            frame_cap=250,\n",
    "            conf=0.6,\n",
    "            video_path='../samples/testing/videos/',\n",
    "            video_source=video,\n",
    "            out_path=''\n",
    "        )\n",
    "        output['video'] = video\n",
    "        output['x_res'] = res[0]\n",
    "        output['y_res'] = res[1]\n",
    "        outputs.append(output)\n",
    "\n",
    "outputs = pd.concat(outputs)\n"
   ]
  },
  {
   "cell_type": "code",
   "execution_count": 91,
   "metadata": {},
   "outputs": [
    {
     "data": {
      "text/html": [
       "<div>\n",
       "<style scoped>\n",
       "    .dataframe tbody tr th:only-of-type {\n",
       "        vertical-align: middle;\n",
       "    }\n",
       "\n",
       "    .dataframe tbody tr th {\n",
       "        vertical-align: top;\n",
       "    }\n",
       "\n",
       "    .dataframe thead th {\n",
       "        text-align: right;\n",
       "    }\n",
       "</style>\n",
       "<table border=\"1\" class=\"dataframe\">\n",
       "  <thead>\n",
       "    <tr style=\"text-align: right;\">\n",
       "      <th></th>\n",
       "      <th>xcenter</th>\n",
       "      <th>ycenter</th>\n",
       "      <th>width</th>\n",
       "      <th>height</th>\n",
       "      <th>confidence</th>\n",
       "      <th>...</th>\n",
       "      <th>name</th>\n",
       "      <th>frame</th>\n",
       "      <th>video</th>\n",
       "      <th>x_res</th>\n",
       "      <th>y_res</th>\n",
       "    </tr>\n",
       "  </thead>\n",
       "  <tbody>\n",
       "    <tr>\n",
       "      <th>0</th>\n",
       "      <td>261.000061</td>\n",
       "      <td>170.209900</td>\n",
       "      <td>59.874023</td>\n",
       "      <td>156.529312</td>\n",
       "      <td>0.763476</td>\n",
       "      <td>...</td>\n",
       "      <td>person</td>\n",
       "      <td>1</td>\n",
       "      <td>large_slow</td>\n",
       "      <td>1280</td>\n",
       "      <td>720</td>\n",
       "    </tr>\n",
       "    <tr>\n",
       "      <th>0</th>\n",
       "      <td>261.000061</td>\n",
       "      <td>170.209900</td>\n",
       "      <td>59.874023</td>\n",
       "      <td>156.529312</td>\n",
       "      <td>0.763476</td>\n",
       "      <td>...</td>\n",
       "      <td>person</td>\n",
       "      <td>2</td>\n",
       "      <td>large_slow</td>\n",
       "      <td>1280</td>\n",
       "      <td>720</td>\n",
       "    </tr>\n",
       "    <tr>\n",
       "      <th>0</th>\n",
       "      <td>261.000061</td>\n",
       "      <td>170.209900</td>\n",
       "      <td>59.874023</td>\n",
       "      <td>156.529312</td>\n",
       "      <td>0.763476</td>\n",
       "      <td>...</td>\n",
       "      <td>person</td>\n",
       "      <td>3</td>\n",
       "      <td>large_slow</td>\n",
       "      <td>1280</td>\n",
       "      <td>720</td>\n",
       "    </tr>\n",
       "    <tr>\n",
       "      <th>0</th>\n",
       "      <td>261.000061</td>\n",
       "      <td>170.209900</td>\n",
       "      <td>59.874023</td>\n",
       "      <td>156.529312</td>\n",
       "      <td>0.763476</td>\n",
       "      <td>...</td>\n",
       "      <td>person</td>\n",
       "      <td>4</td>\n",
       "      <td>large_slow</td>\n",
       "      <td>1280</td>\n",
       "      <td>720</td>\n",
       "    </tr>\n",
       "    <tr>\n",
       "      <th>0</th>\n",
       "      <td>267.735931</td>\n",
       "      <td>171.493683</td>\n",
       "      <td>57.094193</td>\n",
       "      <td>154.408813</td>\n",
       "      <td>0.654082</td>\n",
       "      <td>...</td>\n",
       "      <td>person</td>\n",
       "      <td>5</td>\n",
       "      <td>large_slow</td>\n",
       "      <td>1280</td>\n",
       "      <td>720</td>\n",
       "    </tr>\n",
       "    <tr>\n",
       "      <th>...</th>\n",
       "      <td>...</td>\n",
       "      <td>...</td>\n",
       "      <td>...</td>\n",
       "      <td>...</td>\n",
       "      <td>...</td>\n",
       "      <td>...</td>\n",
       "      <td>...</td>\n",
       "      <td>...</td>\n",
       "      <td>...</td>\n",
       "      <td>...</td>\n",
       "      <td>...</td>\n",
       "    </tr>\n",
       "    <tr>\n",
       "      <th>0</th>\n",
       "      <td>750.430786</td>\n",
       "      <td>393.873566</td>\n",
       "      <td>50.154541</td>\n",
       "      <td>37.585938</td>\n",
       "      <td>0.617641</td>\n",
       "      <td>...</td>\n",
       "      <td>car</td>\n",
       "      <td>246</td>\n",
       "      <td>small_fast</td>\n",
       "      <td>640</td>\n",
       "      <td>360</td>\n",
       "    </tr>\n",
       "    <tr>\n",
       "      <th>0</th>\n",
       "      <td>750.430786</td>\n",
       "      <td>393.873566</td>\n",
       "      <td>50.154541</td>\n",
       "      <td>37.585938</td>\n",
       "      <td>0.617641</td>\n",
       "      <td>...</td>\n",
       "      <td>car</td>\n",
       "      <td>247</td>\n",
       "      <td>small_fast</td>\n",
       "      <td>640</td>\n",
       "      <td>360</td>\n",
       "    </tr>\n",
       "    <tr>\n",
       "      <th>0</th>\n",
       "      <td>750.430786</td>\n",
       "      <td>393.873566</td>\n",
       "      <td>50.154541</td>\n",
       "      <td>37.585938</td>\n",
       "      <td>0.617641</td>\n",
       "      <td>...</td>\n",
       "      <td>car</td>\n",
       "      <td>248</td>\n",
       "      <td>small_fast</td>\n",
       "      <td>640</td>\n",
       "      <td>360</td>\n",
       "    </tr>\n",
       "    <tr>\n",
       "      <th>0</th>\n",
       "      <td>750.430786</td>\n",
       "      <td>393.873566</td>\n",
       "      <td>50.154541</td>\n",
       "      <td>37.585938</td>\n",
       "      <td>0.617641</td>\n",
       "      <td>...</td>\n",
       "      <td>car</td>\n",
       "      <td>249</td>\n",
       "      <td>small_fast</td>\n",
       "      <td>640</td>\n",
       "      <td>360</td>\n",
       "    </tr>\n",
       "    <tr>\n",
       "      <th>0</th>\n",
       "      <td>737.028992</td>\n",
       "      <td>378.270599</td>\n",
       "      <td>43.543091</td>\n",
       "      <td>29.308350</td>\n",
       "      <td>0.628193</td>\n",
       "      <td>...</td>\n",
       "      <td>car</td>\n",
       "      <td>250</td>\n",
       "      <td>small_fast</td>\n",
       "      <td>640</td>\n",
       "      <td>360</td>\n",
       "    </tr>\n",
       "  </tbody>\n",
       "</table>\n",
       "<p>5540 rows × 11 columns</p>\n",
       "</div>"
      ],
      "text/plain": [
       "       xcenter     ycenter      width      height  confidence  ...    name  \\\n",
       "0   261.000061  170.209900  59.874023  156.529312    0.763476  ...  person   \n",
       "0   261.000061  170.209900  59.874023  156.529312    0.763476  ...  person   \n",
       "0   261.000061  170.209900  59.874023  156.529312    0.763476  ...  person   \n",
       "0   261.000061  170.209900  59.874023  156.529312    0.763476  ...  person   \n",
       "0   267.735931  171.493683  57.094193  154.408813    0.654082  ...  person   \n",
       "..         ...         ...        ...         ...         ...  ...     ...   \n",
       "0   750.430786  393.873566  50.154541   37.585938    0.617641  ...     car   \n",
       "0   750.430786  393.873566  50.154541   37.585938    0.617641  ...     car   \n",
       "0   750.430786  393.873566  50.154541   37.585938    0.617641  ...     car   \n",
       "0   750.430786  393.873566  50.154541   37.585938    0.617641  ...     car   \n",
       "0   737.028992  378.270599  43.543091   29.308350    0.628193  ...     car   \n",
       "\n",
       "   frame       video x_res  y_res  \n",
       "0      1  large_slow  1280    720  \n",
       "0      2  large_slow  1280    720  \n",
       "0      3  large_slow  1280    720  \n",
       "0      4  large_slow  1280    720  \n",
       "0      5  large_slow  1280    720  \n",
       "..   ...         ...   ...    ...  \n",
       "0    246  small_fast   640    360  \n",
       "0    247  small_fast   640    360  \n",
       "0    248  small_fast   640    360  \n",
       "0    249  small_fast   640    360  \n",
       "0    250  small_fast   640    360  \n",
       "\n",
       "[5540 rows x 11 columns]"
      ]
     },
     "execution_count": 91,
     "metadata": {},
     "output_type": "execute_result"
    }
   ],
   "source": [
    "outputs"
   ]
  },
  {
   "cell_type": "code",
   "execution_count": 90,
   "metadata": {},
   "outputs": [
    {
     "ename": "KeyError",
     "evalue": "'large_slow'",
     "output_type": "error",
     "traceback": [
      "\u001b[1;31m---------------------------------------------------------------------------\u001b[0m",
      "\u001b[1;31mKeyError\u001b[0m                                  Traceback (most recent call last)",
      "File \u001b[1;32mc:\\Users\\adamf\\sysml-lab\\.venv\\lib\\site-packages\\pandas\\core\\indexes\\base.py:3652\u001b[0m, in \u001b[0;36mIndex.get_loc\u001b[1;34m(self, key)\u001b[0m\n\u001b[0;32m   3651\u001b[0m \u001b[39mtry\u001b[39;00m:\n\u001b[1;32m-> 3652\u001b[0m     \u001b[39mreturn\u001b[39;00m \u001b[39mself\u001b[39;49m\u001b[39m.\u001b[39;49m_engine\u001b[39m.\u001b[39;49mget_loc(casted_key)\n\u001b[0;32m   3653\u001b[0m \u001b[39mexcept\u001b[39;00m \u001b[39mKeyError\u001b[39;00m \u001b[39mas\u001b[39;00m err:\n",
      "File \u001b[1;32mc:\\Users\\adamf\\sysml-lab\\.venv\\lib\\site-packages\\pandas\\_libs\\index.pyx:147\u001b[0m, in \u001b[0;36mpandas._libs.index.IndexEngine.get_loc\u001b[1;34m()\u001b[0m\n",
      "File \u001b[1;32mc:\\Users\\adamf\\sysml-lab\\.venv\\lib\\site-packages\\pandas\\_libs\\index.pyx:155\u001b[0m, in \u001b[0;36mpandas._libs.index.IndexEngine.get_loc\u001b[1;34m()\u001b[0m\n",
      "File \u001b[1;32mpandas\\_libs\\index_class_helper.pxi:70\u001b[0m, in \u001b[0;36mpandas._libs.index.Int64Engine._check_type\u001b[1;34m()\u001b[0m\n",
      "\u001b[1;31mKeyError\u001b[0m: 'large_slow'",
      "\nThe above exception was the direct cause of the following exception:\n",
      "\u001b[1;31mKeyError\u001b[0m                                  Traceback (most recent call last)",
      "Cell \u001b[1;32mIn[90], line 4\u001b[0m\n\u001b[0;32m      2\u001b[0m \u001b[39mfor\u001b[39;00m video \u001b[39min\u001b[39;00m [\u001b[39m'\u001b[39m\u001b[39mlarge_slow\u001b[39m\u001b[39m'\u001b[39m, \u001b[39m'\u001b[39m\u001b[39mlarge_fast\u001b[39m\u001b[39m'\u001b[39m, \u001b[39m'\u001b[39m\u001b[39msmall_slow\u001b[39m\u001b[39m'\u001b[39m, \u001b[39m'\u001b[39m\u001b[39msmall_fast\u001b[39m\u001b[39m'\u001b[39m]:\n\u001b[0;32m      3\u001b[0m     average_size \u001b[39m=\u001b[39m \u001b[39m0\u001b[39m\n\u001b[1;32m----> 4\u001b[0m     \u001b[39mfor\u001b[39;00m row \u001b[39min\u001b[39;00m outputs\u001b[39m.\u001b[39;49mloc[video]\u001b[39m.\u001b[39miterrows():\n\u001b[0;32m      5\u001b[0m         average_size \u001b[39m+\u001b[39m\u001b[39m=\u001b[39m (row[\u001b[39m1\u001b[39m][\u001b[39m2\u001b[39m] \u001b[39m*\u001b[39m row[\u001b[39m1\u001b[39m][\u001b[39m3\u001b[39m])\n\u001b[0;32m      6\u001b[0m     average_size \u001b[39m/\u001b[39m\u001b[39m=\u001b[39m \u001b[39mlen\u001b[39m(outputs\u001b[39m.\u001b[39mloc[video])\n",
      "File \u001b[1;32mc:\\Users\\adamf\\sysml-lab\\.venv\\lib\\site-packages\\pandas\\core\\indexing.py:1103\u001b[0m, in \u001b[0;36m_LocationIndexer.__getitem__\u001b[1;34m(self, key)\u001b[0m\n\u001b[0;32m   1100\u001b[0m axis \u001b[39m=\u001b[39m \u001b[39mself\u001b[39m\u001b[39m.\u001b[39maxis \u001b[39mor\u001b[39;00m \u001b[39m0\u001b[39m\n\u001b[0;32m   1102\u001b[0m maybe_callable \u001b[39m=\u001b[39m com\u001b[39m.\u001b[39mapply_if_callable(key, \u001b[39mself\u001b[39m\u001b[39m.\u001b[39mobj)\n\u001b[1;32m-> 1103\u001b[0m \u001b[39mreturn\u001b[39;00m \u001b[39mself\u001b[39;49m\u001b[39m.\u001b[39;49m_getitem_axis(maybe_callable, axis\u001b[39m=\u001b[39;49maxis)\n",
      "File \u001b[1;32mc:\\Users\\adamf\\sysml-lab\\.venv\\lib\\site-packages\\pandas\\core\\indexing.py:1343\u001b[0m, in \u001b[0;36m_LocIndexer._getitem_axis\u001b[1;34m(self, key, axis)\u001b[0m\n\u001b[0;32m   1341\u001b[0m \u001b[39m# fall thru to straight lookup\u001b[39;00m\n\u001b[0;32m   1342\u001b[0m \u001b[39mself\u001b[39m\u001b[39m.\u001b[39m_validate_key(key, axis)\n\u001b[1;32m-> 1343\u001b[0m \u001b[39mreturn\u001b[39;00m \u001b[39mself\u001b[39;49m\u001b[39m.\u001b[39;49m_get_label(key, axis\u001b[39m=\u001b[39;49maxis)\n",
      "File \u001b[1;32mc:\\Users\\adamf\\sysml-lab\\.venv\\lib\\site-packages\\pandas\\core\\indexing.py:1293\u001b[0m, in \u001b[0;36m_LocIndexer._get_label\u001b[1;34m(self, label, axis)\u001b[0m\n\u001b[0;32m   1291\u001b[0m \u001b[39mdef\u001b[39;00m \u001b[39m_get_label\u001b[39m(\u001b[39mself\u001b[39m, label, axis: AxisInt):\n\u001b[0;32m   1292\u001b[0m     \u001b[39m# GH#5567 this will fail if the label is not present in the axis.\u001b[39;00m\n\u001b[1;32m-> 1293\u001b[0m     \u001b[39mreturn\u001b[39;00m \u001b[39mself\u001b[39;49m\u001b[39m.\u001b[39;49mobj\u001b[39m.\u001b[39;49mxs(label, axis\u001b[39m=\u001b[39;49maxis)\n",
      "File \u001b[1;32mc:\\Users\\adamf\\sysml-lab\\.venv\\lib\\site-packages\\pandas\\core\\generic.py:4095\u001b[0m, in \u001b[0;36mNDFrame.xs\u001b[1;34m(self, key, axis, level, drop_level)\u001b[0m\n\u001b[0;32m   4093\u001b[0m             new_index \u001b[39m=\u001b[39m index[loc]\n\u001b[0;32m   4094\u001b[0m \u001b[39melse\u001b[39;00m:\n\u001b[1;32m-> 4095\u001b[0m     loc \u001b[39m=\u001b[39m index\u001b[39m.\u001b[39;49mget_loc(key)\n\u001b[0;32m   4097\u001b[0m     \u001b[39mif\u001b[39;00m \u001b[39misinstance\u001b[39m(loc, np\u001b[39m.\u001b[39mndarray):\n\u001b[0;32m   4098\u001b[0m         \u001b[39mif\u001b[39;00m loc\u001b[39m.\u001b[39mdtype \u001b[39m==\u001b[39m np\u001b[39m.\u001b[39mbool_:\n",
      "File \u001b[1;32mc:\\Users\\adamf\\sysml-lab\\.venv\\lib\\site-packages\\pandas\\core\\indexes\\base.py:3654\u001b[0m, in \u001b[0;36mIndex.get_loc\u001b[1;34m(self, key)\u001b[0m\n\u001b[0;32m   3652\u001b[0m     \u001b[39mreturn\u001b[39;00m \u001b[39mself\u001b[39m\u001b[39m.\u001b[39m_engine\u001b[39m.\u001b[39mget_loc(casted_key)\n\u001b[0;32m   3653\u001b[0m \u001b[39mexcept\u001b[39;00m \u001b[39mKeyError\u001b[39;00m \u001b[39mas\u001b[39;00m err:\n\u001b[1;32m-> 3654\u001b[0m     \u001b[39mraise\u001b[39;00m \u001b[39mKeyError\u001b[39;00m(key) \u001b[39mfrom\u001b[39;00m \u001b[39merr\u001b[39;00m\n\u001b[0;32m   3655\u001b[0m \u001b[39mexcept\u001b[39;00m \u001b[39mTypeError\u001b[39;00m:\n\u001b[0;32m   3656\u001b[0m     \u001b[39m# If we have a listlike key, _check_indexing_error will raise\u001b[39;00m\n\u001b[0;32m   3657\u001b[0m     \u001b[39m#  InvalidIndexError. Otherwise we fall through and re-raise\u001b[39;00m\n\u001b[0;32m   3658\u001b[0m     \u001b[39m#  the TypeError.\u001b[39;00m\n\u001b[0;32m   3659\u001b[0m     \u001b[39mself\u001b[39m\u001b[39m.\u001b[39m_check_indexing_error(key)\n",
      "\u001b[1;31mKeyError\u001b[0m: 'large_slow'"
     ]
    }
   ],
   "source": [
    "average_sizes = {}\n",
    "for res in [(1280, 720), (960, 540), (640, 360)]:\n",
    "    for video in ['large_slow', 'large_fast', 'small_slow', 'small_fast']:\n",
    "    average_size = 0\n",
    "    for row in outputs.loc[video].iterrows():\n",
    "        average_size += (row[1][2] * row[1][3])\n",
    "    average_size /= len(outputs.loc[video])\n",
    "    print(average_size)\n",
    "    average_sizes[video] = average_size\n",
    "\n",
    "df = pd.DataFrame(average_sizes, index=[0]).transpose().reset_index()"
   ]
  },
  {
   "cell_type": "code",
   "execution_count": null,
   "metadata": {},
   "outputs": [
    {
     "data": {
      "text/html": [
       "<div>\n",
       "<style scoped>\n",
       "    .dataframe tbody tr th:only-of-type {\n",
       "        vertical-align: middle;\n",
       "    }\n",
       "\n",
       "    .dataframe tbody tr th {\n",
       "        vertical-align: top;\n",
       "    }\n",
       "\n",
       "    .dataframe thead th {\n",
       "        text-align: right;\n",
       "    }\n",
       "</style>\n",
       "<table border=\"1\" class=\"dataframe\">\n",
       "  <thead>\n",
       "    <tr style=\"text-align: right;\">\n",
       "      <th></th>\n",
       "      <th>index</th>\n",
       "      <th>0</th>\n",
       "    </tr>\n",
       "  </thead>\n",
       "  <tbody>\n",
       "    <tr>\n",
       "      <th>0</th>\n",
       "      <td>large_slow</td>\n",
       "      <td>12456.418118</td>\n",
       "    </tr>\n",
       "    <tr>\n",
       "      <th>1</th>\n",
       "      <td>large_fast</td>\n",
       "      <td>49207.867968</td>\n",
       "    </tr>\n",
       "    <tr>\n",
       "      <th>2</th>\n",
       "      <td>small_slow</td>\n",
       "      <td>2292.689543</td>\n",
       "    </tr>\n",
       "    <tr>\n",
       "      <th>3</th>\n",
       "      <td>small_fast</td>\n",
       "      <td>4709.189786</td>\n",
       "    </tr>\n",
       "  </tbody>\n",
       "</table>\n",
       "</div>"
      ],
      "text/plain": [
       "        index             0\n",
       "0  large_slow  12456.418118\n",
       "1  large_fast  49207.867968\n",
       "2  small_slow   2292.689543\n",
       "3  small_fast   4709.189786"
      ]
     },
     "execution_count": 86,
     "metadata": {},
     "output_type": "execute_result"
    }
   ],
   "source": [
    "df"
   ]
  },
  {
   "cell_type": "code",
   "execution_count": null,
   "metadata": {},
   "outputs": [
    {
     "data": {
      "text/plain": [
       "Index(['large_slow', 'large_fast', 'small_slow', 'small_fast'], dtype='object')"
      ]
     },
     "execution_count": 78,
     "metadata": {},
     "output_type": "execute_result"
    }
   ],
   "source": [
    "df.columns"
   ]
  },
  {
   "cell_type": "code",
   "execution_count": null,
   "metadata": {},
   "outputs": [
    {
     "data": {
      "text/plain": [
       "<Axes: xlabel='index'>"
      ]
     },
     "execution_count": 87,
     "metadata": {},
     "output_type": "execute_result"
    },
    {
     "data": {
      "image/png": "[encoded data removed]",
      "text/plain": [
       "<Figure size 640x480 with 1 Axes>"
      ]
     },
     "metadata": {},
     "output_type": "display_data"
    }
   ],
   "source": [
    "df.plot.bar('index', 0)  \n"
   ]
  }
 ],
 "metadata": {
  "kernelspec": {
   "display_name": ".venv",
   "language": "python",
   "name": "python3"
  },
  "language_info": {
   "codemirror_mode": {
    "name": "ipython",
    "version": 3
   },
   "file_extension": ".py",
   "mimetype": "text/x-python",
   "name": "python",
   "nbconvert_exporter": "python",
   "pygments_lexer": "ipython3",
   "version": "3.9.13"
  },
  "orig_nbformat": 4
 },
 "nbformat": 4,
 "nbformat_minor": 2
}
